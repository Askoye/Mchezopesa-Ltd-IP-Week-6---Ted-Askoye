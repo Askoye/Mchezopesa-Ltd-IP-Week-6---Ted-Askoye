{
  "nbformat": 4,
  "nbformat_minor": 0,
  "metadata": {
    "colab": {
      "name": "Moringa_Data_Science_Core_W6_Independent_Project_2020_07_Ted_Askoye_Python_Notebook",
      "provenance": [],
      "collapsed_sections": [],
      "toc_visible": true,
      "authorship_tag": "ABX9TyOfn2ewoQ8Ec69MOrN8ypzW",
      "include_colab_link": true
    },
    "kernelspec": {
      "name": "python3",
      "display_name": "Python 3"
    }
  },
  "cells": [
    {
      "cell_type": "markdown",
      "metadata": {
        "id": "view-in-github",
        "colab_type": "text"
      },
      "source": [
        "<a href=\"https://colab.research.google.com/github/Askoye/Mchezopesa-Ltd-IP-Week-6---Ted-Askoye/blob/master/Moringa_Data_Science_Core_W6_Independent_Project_2020_07_Ted_Askoye_Python_Notebook.ipynb\" target=\"_parent\"><img src=\"https://colab.research.google.com/assets/colab-badge.svg\" alt=\"Open In Colab\"/></a>"
      ]
    },
    {
      "cell_type": "markdown",
      "metadata": {
        "id": "pF5-cqTHRlfM",
        "colab_type": "text"
      },
      "source": [
        "# Mchezopesa Limited(Ltd.)\n",
        "\n",
        "## 1. Defining the Question"
      ]
    },
    {
      "cell_type": "markdown",
      "metadata": {
        "id": "XecOwPNorl2W",
        "colab_type": "text"
      },
      "source": [
        "### a) Specifying the Question"
      ]
    },
    {
      "cell_type": "markdown",
      "metadata": {
        "id": "8l3-hBO6bODP",
        "colab_type": "text"
      },
      "source": [
        "Research Question.\n",
        "\n",
        "We will\n",
        "- Predict how many goals the home team scores.\n",
        "- Predict how many goals the away team scores.\n",
        "- Figure out from the home team’s perspective if the game is a Win, Lose or Draw (W, L, D)\n",
        "\n",
        "We will do this using two approaches \n",
        "\n",
        "Approach 1: Using Polynomial regression.\n",
        "Create a model that can predict how many goals the home team scores \n",
        "\n",
        "Approach 2: Using Logistic Regression.\n",
        "Create a model that can predict whether the home team will win, draw or lose\n",
        "\n",
        "This will be done by using the following:\n",
        "- Home team\n",
        "- Away team \n",
        "- Tournament type \n",
        "- Rank of home and away teams"
      ]
    },
    {
      "cell_type": "markdown",
      "metadata": {
        "id": "J4wfHZwQrs-t",
        "colab_type": "text"
      },
      "source": [
        "### b) Defining the Metric for Success\n",
        "\n",
        "The metric of success for the first approach (Polynomial regression) will be the Root Mean Squared Error which we will be using to measure the performace of the model. \n",
        "\n",
        "The metric of success for the second approach (Logistic Regression) will be measured using the accuracy score and the f1_score in order to find its predictive power"
      ]
    },
    {
      "cell_type": "markdown",
      "metadata": {
        "id": "a9BPYqunry97",
        "colab_type": "text"
      },
      "source": [
        "### c) Understanding the context \n",
        "\n",
        "A more detailed explanation and history of the rankings is available here: [Click the link for more info.](https://https://en.wikipedia.org/wiki/FIFA_World_Rankings) \n",
        "\n",
        "An explanation of the ranking procedure is available here: [Click the link for more info.](https://https://www.fifa.com/fifa-world-ranking/procedure/men)\n",
        "\n"
      ]
    },
    {
      "cell_type": "markdown",
      "metadata": {
        "id": "7KMRBJ7zr9HD",
        "colab_type": "text"
      },
      "source": [
        "### d) Recording the Experimental Design\n",
        "\n",
        "> Expected flow for the assessment:\n",
        "\n",
        "- Perform our EDA\n",
        "- Perform any necessary feature engineering \n",
        "- Check of multicollinearity\n",
        "- Start building the model\n",
        "- Cross-validate the model\n",
        "- Compute RMSE\n",
        "- Create residual plots for our models, and assess the heteroscedasticity using Bartlett’s test\n",
        "- Perform appropriate regressions on the data including our justification\n",
        "- Challenge the solution by providing insights on how to can make improvements."
      ]
    },
    {
      "cell_type": "markdown",
      "metadata": {
        "id": "CA5PABCiRbF6",
        "colab_type": "text"
      },
      "source": [
        "### e) Data Relevance"
      ]
    },
    {
      "cell_type": "markdown",
      "metadata": {
        "id": "NxuciSByRe74",
        "colab_type": "text"
      },
      "source": [
        "## 2. Reading the Data"
      ]
    },
    {
      "cell_type": "code",
      "metadata": {
        "id": "jysVQMXT0Btl",
        "colab_type": "code",
        "colab": {}
      },
      "source": [
        "# Importing libraries\n",
        "import pandas as pd\n",
        "import numpy as np\n",
        "import seaborn as sns\n",
        "import scipy as sp\n",
        "from sklearn.model_selection import train_test_split, GridSearchCV, KFold, cross_val_score\n",
        "from sklearn.metrics import mean_squared_error, accuracy_score, f1_score, confusion_matrix\n",
        "from sklearn.preprocessing import StandardScaler, PolynomialFeatures\n",
        "from sklearn.linear_model import LinearRegression, LogisticRegression\n",
        "import datetime as dt\n",
        "import matplotlib.pyplot as plt\n",
        "%matplotlib inline"
      ],
      "execution_count": null,
      "outputs": []
    },
    {
      "cell_type": "code",
      "metadata": {
        "id": "q4l4s8321vDt",
        "colab_type": "code",
        "colab": {
          "base_uri": "https://localhost:8080/",
          "height": 224
        },
        "outputId": "f7ea05f7-9314-45c4-d0df-6366112b0cee"
      },
      "source": [
        "# Loading and previewing the data of the fifa_ranking_df\n",
        "\n",
        "fifa_ranking_df = pd.read_csv('fifa_ranking.csv')\n",
        "fifa_ranking_df.head()"
      ],
      "execution_count": null,
      "outputs": [
        {
          "output_type": "execute_result",
          "data": {
            "text/html": [
              "<div>\n",
              "<style scoped>\n",
              "    .dataframe tbody tr th:only-of-type {\n",
              "        vertical-align: middle;\n",
              "    }\n",
              "\n",
              "    .dataframe tbody tr th {\n",
              "        vertical-align: top;\n",
              "    }\n",
              "\n",
              "    .dataframe thead th {\n",
              "        text-align: right;\n",
              "    }\n",
              "</style>\n",
              "<table border=\"1\" class=\"dataframe\">\n",
              "  <thead>\n",
              "    <tr style=\"text-align: right;\">\n",
              "      <th></th>\n",
              "      <th>rank</th>\n",
              "      <th>country_full</th>\n",
              "      <th>country_abrv</th>\n",
              "      <th>total_points</th>\n",
              "      <th>previous_points</th>\n",
              "      <th>rank_change</th>\n",
              "      <th>cur_year_avg</th>\n",
              "      <th>cur_year_avg_weighted</th>\n",
              "      <th>last_year_avg</th>\n",
              "      <th>last_year_avg_weighted</th>\n",
              "      <th>two_year_ago_avg</th>\n",
              "      <th>two_year_ago_weighted</th>\n",
              "      <th>three_year_ago_avg</th>\n",
              "      <th>three_year_ago_weighted</th>\n",
              "      <th>confederation</th>\n",
              "      <th>rank_date</th>\n",
              "    </tr>\n",
              "  </thead>\n",
              "  <tbody>\n",
              "    <tr>\n",
              "      <th>0</th>\n",
              "      <td>1</td>\n",
              "      <td>Germany</td>\n",
              "      <td>GER</td>\n",
              "      <td>0.0</td>\n",
              "      <td>57</td>\n",
              "      <td>0</td>\n",
              "      <td>0.0</td>\n",
              "      <td>0.0</td>\n",
              "      <td>0.0</td>\n",
              "      <td>0.0</td>\n",
              "      <td>0.0</td>\n",
              "      <td>0.0</td>\n",
              "      <td>0.0</td>\n",
              "      <td>0.0</td>\n",
              "      <td>UEFA</td>\n",
              "      <td>1993-08-08</td>\n",
              "    </tr>\n",
              "    <tr>\n",
              "      <th>1</th>\n",
              "      <td>2</td>\n",
              "      <td>Italy</td>\n",
              "      <td>ITA</td>\n",
              "      <td>0.0</td>\n",
              "      <td>57</td>\n",
              "      <td>0</td>\n",
              "      <td>0.0</td>\n",
              "      <td>0.0</td>\n",
              "      <td>0.0</td>\n",
              "      <td>0.0</td>\n",
              "      <td>0.0</td>\n",
              "      <td>0.0</td>\n",
              "      <td>0.0</td>\n",
              "      <td>0.0</td>\n",
              "      <td>UEFA</td>\n",
              "      <td>1993-08-08</td>\n",
              "    </tr>\n",
              "    <tr>\n",
              "      <th>2</th>\n",
              "      <td>3</td>\n",
              "      <td>Switzerland</td>\n",
              "      <td>SUI</td>\n",
              "      <td>0.0</td>\n",
              "      <td>50</td>\n",
              "      <td>9</td>\n",
              "      <td>0.0</td>\n",
              "      <td>0.0</td>\n",
              "      <td>0.0</td>\n",
              "      <td>0.0</td>\n",
              "      <td>0.0</td>\n",
              "      <td>0.0</td>\n",
              "      <td>0.0</td>\n",
              "      <td>0.0</td>\n",
              "      <td>UEFA</td>\n",
              "      <td>1993-08-08</td>\n",
              "    </tr>\n",
              "    <tr>\n",
              "      <th>3</th>\n",
              "      <td>4</td>\n",
              "      <td>Sweden</td>\n",
              "      <td>SWE</td>\n",
              "      <td>0.0</td>\n",
              "      <td>55</td>\n",
              "      <td>0</td>\n",
              "      <td>0.0</td>\n",
              "      <td>0.0</td>\n",
              "      <td>0.0</td>\n",
              "      <td>0.0</td>\n",
              "      <td>0.0</td>\n",
              "      <td>0.0</td>\n",
              "      <td>0.0</td>\n",
              "      <td>0.0</td>\n",
              "      <td>UEFA</td>\n",
              "      <td>1993-08-08</td>\n",
              "    </tr>\n",
              "    <tr>\n",
              "      <th>4</th>\n",
              "      <td>5</td>\n",
              "      <td>Argentina</td>\n",
              "      <td>ARG</td>\n",
              "      <td>0.0</td>\n",
              "      <td>51</td>\n",
              "      <td>5</td>\n",
              "      <td>0.0</td>\n",
              "      <td>0.0</td>\n",
              "      <td>0.0</td>\n",
              "      <td>0.0</td>\n",
              "      <td>0.0</td>\n",
              "      <td>0.0</td>\n",
              "      <td>0.0</td>\n",
              "      <td>0.0</td>\n",
              "      <td>CONMEBOL</td>\n",
              "      <td>1993-08-08</td>\n",
              "    </tr>\n",
              "  </tbody>\n",
              "</table>\n",
              "</div>"
            ],
            "text/plain": [
              "   rank country_full  ... confederation   rank_date\n",
              "0     1      Germany  ...          UEFA  1993-08-08\n",
              "1     2        Italy  ...          UEFA  1993-08-08\n",
              "2     3  Switzerland  ...          UEFA  1993-08-08\n",
              "3     4       Sweden  ...          UEFA  1993-08-08\n",
              "4     5    Argentina  ...      CONMEBOL  1993-08-08\n",
              "\n",
              "[5 rows x 16 columns]"
            ]
          },
          "metadata": {
            "tags": []
          },
          "execution_count": 213
        }
      ]
    },
    {
      "cell_type": "code",
      "metadata": {
        "id": "IMpJwFHT1u_7",
        "colab_type": "code",
        "colab": {
          "base_uri": "https://localhost:8080/",
          "height": 408
        },
        "outputId": "4b351077-449a-45b5-fa1f-0cc7d7736c62"
      },
      "source": [
        "# Previewing some information of the fifa_ranking_df\n",
        "\n",
        "fifa_ranking_df.info()"
      ],
      "execution_count": null,
      "outputs": [
        {
          "output_type": "stream",
          "text": [
            "<class 'pandas.core.frame.DataFrame'>\n",
            "RangeIndex: 57793 entries, 0 to 57792\n",
            "Data columns (total 16 columns):\n",
            " #   Column                   Non-Null Count  Dtype  \n",
            "---  ------                   --------------  -----  \n",
            " 0   rank                     57793 non-null  int64  \n",
            " 1   country_full             57793 non-null  object \n",
            " 2   country_abrv             57793 non-null  object \n",
            " 3   total_points             57793 non-null  float64\n",
            " 4   previous_points          57793 non-null  int64  \n",
            " 5   rank_change              57793 non-null  int64  \n",
            " 6   cur_year_avg             57793 non-null  float64\n",
            " 7   cur_year_avg_weighted    57793 non-null  float64\n",
            " 8   last_year_avg            57793 non-null  float64\n",
            " 9   last_year_avg_weighted   57793 non-null  float64\n",
            " 10  two_year_ago_avg         57793 non-null  float64\n",
            " 11  two_year_ago_weighted    57793 non-null  float64\n",
            " 12  three_year_ago_avg       57793 non-null  float64\n",
            " 13  three_year_ago_weighted  57793 non-null  float64\n",
            " 14  confederation            57793 non-null  object \n",
            " 15  rank_date                57793 non-null  object \n",
            "dtypes: float64(9), int64(3), object(4)\n",
            "memory usage: 7.1+ MB\n"
          ],
          "name": "stdout"
        }
      ]
    },
    {
      "cell_type": "code",
      "metadata": {
        "id": "1KyiBncG1u95",
        "colab_type": "code",
        "colab": {
          "base_uri": "https://localhost:8080/",
          "height": 317
        },
        "outputId": "f6d1fa08-bb07-4264-b772-ffb873b20646"
      },
      "source": [
        "# Previewing some statistical summaries of the fifa_ranking_df\n",
        "\n",
        "fifa_ranking_df.describe()"
      ],
      "execution_count": null,
      "outputs": [
        {
          "output_type": "execute_result",
          "data": {
            "text/html": [
              "<div>\n",
              "<style scoped>\n",
              "    .dataframe tbody tr th:only-of-type {\n",
              "        vertical-align: middle;\n",
              "    }\n",
              "\n",
              "    .dataframe tbody tr th {\n",
              "        vertical-align: top;\n",
              "    }\n",
              "\n",
              "    .dataframe thead th {\n",
              "        text-align: right;\n",
              "    }\n",
              "</style>\n",
              "<table border=\"1\" class=\"dataframe\">\n",
              "  <thead>\n",
              "    <tr style=\"text-align: right;\">\n",
              "      <th></th>\n",
              "      <th>rank</th>\n",
              "      <th>total_points</th>\n",
              "      <th>previous_points</th>\n",
              "      <th>rank_change</th>\n",
              "      <th>cur_year_avg</th>\n",
              "      <th>cur_year_avg_weighted</th>\n",
              "      <th>last_year_avg</th>\n",
              "      <th>last_year_avg_weighted</th>\n",
              "      <th>two_year_ago_avg</th>\n",
              "      <th>two_year_ago_weighted</th>\n",
              "      <th>three_year_ago_avg</th>\n",
              "      <th>three_year_ago_weighted</th>\n",
              "    </tr>\n",
              "  </thead>\n",
              "  <tbody>\n",
              "    <tr>\n",
              "      <th>count</th>\n",
              "      <td>57793.000000</td>\n",
              "      <td>57793.000000</td>\n",
              "      <td>57793.000000</td>\n",
              "      <td>57793.000000</td>\n",
              "      <td>57793.000000</td>\n",
              "      <td>57793.000000</td>\n",
              "      <td>57793.000000</td>\n",
              "      <td>57793.000000</td>\n",
              "      <td>57793.000000</td>\n",
              "      <td>57793.000000</td>\n",
              "      <td>57793.000000</td>\n",
              "      <td>57793.000000</td>\n",
              "    </tr>\n",
              "    <tr>\n",
              "      <th>mean</th>\n",
              "      <td>101.628086</td>\n",
              "      <td>122.068637</td>\n",
              "      <td>332.302926</td>\n",
              "      <td>-0.009897</td>\n",
              "      <td>61.798602</td>\n",
              "      <td>61.798602</td>\n",
              "      <td>61.004602</td>\n",
              "      <td>30.502377</td>\n",
              "      <td>59.777462</td>\n",
              "      <td>17.933277</td>\n",
              "      <td>59.173916</td>\n",
              "      <td>11.834811</td>\n",
              "    </tr>\n",
              "    <tr>\n",
              "      <th>std</th>\n",
              "      <td>58.618424</td>\n",
              "      <td>260.426863</td>\n",
              "      <td>302.872948</td>\n",
              "      <td>5.804309</td>\n",
              "      <td>138.014883</td>\n",
              "      <td>138.014883</td>\n",
              "      <td>137.688204</td>\n",
              "      <td>68.844143</td>\n",
              "      <td>136.296079</td>\n",
              "      <td>40.888849</td>\n",
              "      <td>135.533343</td>\n",
              "      <td>27.106675</td>\n",
              "    </tr>\n",
              "    <tr>\n",
              "      <th>min</th>\n",
              "      <td>1.000000</td>\n",
              "      <td>0.000000</td>\n",
              "      <td>0.000000</td>\n",
              "      <td>-72.000000</td>\n",
              "      <td>0.000000</td>\n",
              "      <td>0.000000</td>\n",
              "      <td>0.000000</td>\n",
              "      <td>0.000000</td>\n",
              "      <td>0.000000</td>\n",
              "      <td>0.000000</td>\n",
              "      <td>0.000000</td>\n",
              "      <td>0.000000</td>\n",
              "    </tr>\n",
              "    <tr>\n",
              "      <th>25%</th>\n",
              "      <td>51.000000</td>\n",
              "      <td>0.000000</td>\n",
              "      <td>56.000000</td>\n",
              "      <td>-2.000000</td>\n",
              "      <td>0.000000</td>\n",
              "      <td>0.000000</td>\n",
              "      <td>0.000000</td>\n",
              "      <td>0.000000</td>\n",
              "      <td>0.000000</td>\n",
              "      <td>0.000000</td>\n",
              "      <td>0.000000</td>\n",
              "      <td>0.000000</td>\n",
              "    </tr>\n",
              "    <tr>\n",
              "      <th>50%</th>\n",
              "      <td>101.000000</td>\n",
              "      <td>0.000000</td>\n",
              "      <td>272.000000</td>\n",
              "      <td>0.000000</td>\n",
              "      <td>0.000000</td>\n",
              "      <td>0.000000</td>\n",
              "      <td>0.000000</td>\n",
              "      <td>0.000000</td>\n",
              "      <td>0.000000</td>\n",
              "      <td>0.000000</td>\n",
              "      <td>0.000000</td>\n",
              "      <td>0.000000</td>\n",
              "    </tr>\n",
              "    <tr>\n",
              "      <th>75%</th>\n",
              "      <td>152.000000</td>\n",
              "      <td>92.790000</td>\n",
              "      <td>525.000000</td>\n",
              "      <td>1.000000</td>\n",
              "      <td>32.250000</td>\n",
              "      <td>32.250000</td>\n",
              "      <td>26.660000</td>\n",
              "      <td>13.330000</td>\n",
              "      <td>21.500000</td>\n",
              "      <td>6.450000</td>\n",
              "      <td>21.250000</td>\n",
              "      <td>4.250000</td>\n",
              "    </tr>\n",
              "    <tr>\n",
              "      <th>max</th>\n",
              "      <td>209.000000</td>\n",
              "      <td>1775.030000</td>\n",
              "      <td>1920.000000</td>\n",
              "      <td>92.000000</td>\n",
              "      <td>1158.660000</td>\n",
              "      <td>1158.660000</td>\n",
              "      <td>1169.570000</td>\n",
              "      <td>584.790000</td>\n",
              "      <td>1159.710000</td>\n",
              "      <td>347.910000</td>\n",
              "      <td>1200.770000</td>\n",
              "      <td>240.150000</td>\n",
              "    </tr>\n",
              "  </tbody>\n",
              "</table>\n",
              "</div>"
            ],
            "text/plain": [
              "               rank  total_points  ...  three_year_ago_avg  three_year_ago_weighted\n",
              "count  57793.000000  57793.000000  ...        57793.000000             57793.000000\n",
              "mean     101.628086    122.068637  ...           59.173916                11.834811\n",
              "std       58.618424    260.426863  ...          135.533343                27.106675\n",
              "min        1.000000      0.000000  ...            0.000000                 0.000000\n",
              "25%       51.000000      0.000000  ...            0.000000                 0.000000\n",
              "50%      101.000000      0.000000  ...            0.000000                 0.000000\n",
              "75%      152.000000     92.790000  ...           21.250000                 4.250000\n",
              "max      209.000000   1775.030000  ...         1200.770000               240.150000\n",
              "\n",
              "[8 rows x 12 columns]"
            ]
          },
          "metadata": {
            "tags": []
          },
          "execution_count": 215
        }
      ]
    },
    {
      "cell_type": "code",
      "metadata": {
        "id": "kJWXC1J11u8U",
        "colab_type": "code",
        "colab": {
          "base_uri": "https://localhost:8080/",
          "height": 306
        },
        "outputId": "3d323974-b545-46f2-cf13-067a03136775"
      },
      "source": [
        "# Checking for missing values of the fifa_ranking_df\n",
        "\n",
        "fifa_ranking_df.isnull().sum()"
      ],
      "execution_count": null,
      "outputs": [
        {
          "output_type": "execute_result",
          "data": {
            "text/plain": [
              "rank                       0\n",
              "country_full               0\n",
              "country_abrv               0\n",
              "total_points               0\n",
              "previous_points            0\n",
              "rank_change                0\n",
              "cur_year_avg               0\n",
              "cur_year_avg_weighted      0\n",
              "last_year_avg              0\n",
              "last_year_avg_weighted     0\n",
              "two_year_ago_avg           0\n",
              "two_year_ago_weighted      0\n",
              "three_year_ago_avg         0\n",
              "three_year_ago_weighted    0\n",
              "confederation              0\n",
              "rank_date                  0\n",
              "dtype: int64"
            ]
          },
          "metadata": {
            "tags": []
          },
          "execution_count": 216
        }
      ]
    },
    {
      "cell_type": "code",
      "metadata": {
        "id": "7XEOKZC0nljH",
        "colab_type": "code",
        "colab": {
          "base_uri": "https://localhost:8080/",
          "height": 34
        },
        "outputId": "87789234-3763-41b5-c900-cc129a8ecf3b"
      },
      "source": [
        "# Checking for duplicates\n",
        "\n",
        "fifa_ranking_df.duplicated().any()"
      ],
      "execution_count": null,
      "outputs": [
        {
          "output_type": "execute_result",
          "data": {
            "text/plain": [
              "True"
            ]
          },
          "metadata": {
            "tags": []
          },
          "execution_count": 217
        }
      ]
    },
    {
      "cell_type": "code",
      "metadata": {
        "id": "tl0C3fAFn2qL",
        "colab_type": "code",
        "colab": {}
      },
      "source": [
        "# Removing duplicates\n",
        "\n",
        "fifa_ranking_df.drop_duplicates(keep='first', inplace = True)"
      ],
      "execution_count": null,
      "outputs": []
    },
    {
      "cell_type": "code",
      "metadata": {
        "id": "2vNGqLf3pBoI",
        "colab_type": "code",
        "colab": {
          "base_uri": "https://localhost:8080/",
          "height": 34
        },
        "outputId": "be482186-9f16-4e4e-a0ff-9c8cd0c7bca6"
      },
      "source": [
        "# Checking whether the duplicates have been removed\n",
        "\n",
        "fifa_ranking_df.duplicated().any()"
      ],
      "execution_count": null,
      "outputs": [
        {
          "output_type": "execute_result",
          "data": {
            "text/plain": [
              "False"
            ]
          },
          "metadata": {
            "tags": []
          },
          "execution_count": 219
        }
      ]
    },
    {
      "cell_type": "code",
      "metadata": {
        "id": "87qIxnEk1u3S",
        "colab_type": "code",
        "colab": {
          "base_uri": "https://localhost:8080/",
          "height": 204
        },
        "outputId": "a247f931-23d9-4cd0-837b-3f541d2447ba"
      },
      "source": [
        "# Loading and previewing the results_df\n",
        "\n",
        "results_df = pd.read_csv('results.csv')\n",
        "results_df.head()"
      ],
      "execution_count": null,
      "outputs": [
        {
          "output_type": "execute_result",
          "data": {
            "text/html": [
              "<div>\n",
              "<style scoped>\n",
              "    .dataframe tbody tr th:only-of-type {\n",
              "        vertical-align: middle;\n",
              "    }\n",
              "\n",
              "    .dataframe tbody tr th {\n",
              "        vertical-align: top;\n",
              "    }\n",
              "\n",
              "    .dataframe thead th {\n",
              "        text-align: right;\n",
              "    }\n",
              "</style>\n",
              "<table border=\"1\" class=\"dataframe\">\n",
              "  <thead>\n",
              "    <tr style=\"text-align: right;\">\n",
              "      <th></th>\n",
              "      <th>date</th>\n",
              "      <th>home_team</th>\n",
              "      <th>away_team</th>\n",
              "      <th>home_score</th>\n",
              "      <th>away_score</th>\n",
              "      <th>tournament</th>\n",
              "      <th>city</th>\n",
              "      <th>country</th>\n",
              "      <th>neutral</th>\n",
              "    </tr>\n",
              "  </thead>\n",
              "  <tbody>\n",
              "    <tr>\n",
              "      <th>0</th>\n",
              "      <td>1872-11-30</td>\n",
              "      <td>Scotland</td>\n",
              "      <td>England</td>\n",
              "      <td>0</td>\n",
              "      <td>0</td>\n",
              "      <td>Friendly</td>\n",
              "      <td>Glasgow</td>\n",
              "      <td>Scotland</td>\n",
              "      <td>False</td>\n",
              "    </tr>\n",
              "    <tr>\n",
              "      <th>1</th>\n",
              "      <td>1873-03-08</td>\n",
              "      <td>England</td>\n",
              "      <td>Scotland</td>\n",
              "      <td>4</td>\n",
              "      <td>2</td>\n",
              "      <td>Friendly</td>\n",
              "      <td>London</td>\n",
              "      <td>England</td>\n",
              "      <td>False</td>\n",
              "    </tr>\n",
              "    <tr>\n",
              "      <th>2</th>\n",
              "      <td>1874-03-07</td>\n",
              "      <td>Scotland</td>\n",
              "      <td>England</td>\n",
              "      <td>2</td>\n",
              "      <td>1</td>\n",
              "      <td>Friendly</td>\n",
              "      <td>Glasgow</td>\n",
              "      <td>Scotland</td>\n",
              "      <td>False</td>\n",
              "    </tr>\n",
              "    <tr>\n",
              "      <th>3</th>\n",
              "      <td>1875-03-06</td>\n",
              "      <td>England</td>\n",
              "      <td>Scotland</td>\n",
              "      <td>2</td>\n",
              "      <td>2</td>\n",
              "      <td>Friendly</td>\n",
              "      <td>London</td>\n",
              "      <td>England</td>\n",
              "      <td>False</td>\n",
              "    </tr>\n",
              "    <tr>\n",
              "      <th>4</th>\n",
              "      <td>1876-03-04</td>\n",
              "      <td>Scotland</td>\n",
              "      <td>England</td>\n",
              "      <td>3</td>\n",
              "      <td>0</td>\n",
              "      <td>Friendly</td>\n",
              "      <td>Glasgow</td>\n",
              "      <td>Scotland</td>\n",
              "      <td>False</td>\n",
              "    </tr>\n",
              "  </tbody>\n",
              "</table>\n",
              "</div>"
            ],
            "text/plain": [
              "         date home_team away_team  ...     city   country neutral\n",
              "0  1872-11-30  Scotland   England  ...  Glasgow  Scotland   False\n",
              "1  1873-03-08   England  Scotland  ...   London   England   False\n",
              "2  1874-03-07  Scotland   England  ...  Glasgow  Scotland   False\n",
              "3  1875-03-06   England  Scotland  ...   London   England   False\n",
              "4  1876-03-04  Scotland   England  ...  Glasgow  Scotland   False\n",
              "\n",
              "[5 rows x 9 columns]"
            ]
          },
          "metadata": {
            "tags": []
          },
          "execution_count": 220
        }
      ]
    },
    {
      "cell_type": "code",
      "metadata": {
        "id": "l1gmnyyR6QSG",
        "colab_type": "code",
        "colab": {
          "base_uri": "https://localhost:8080/",
          "height": 289
        },
        "outputId": "d832e66e-2c7f-4b6a-cb4a-86b4b94c5bca"
      },
      "source": [
        "# Previewing information of the results_df\n",
        "\n",
        "results_df.info()"
      ],
      "execution_count": null,
      "outputs": [
        {
          "output_type": "stream",
          "text": [
            "<class 'pandas.core.frame.DataFrame'>\n",
            "RangeIndex: 40839 entries, 0 to 40838\n",
            "Data columns (total 9 columns):\n",
            " #   Column      Non-Null Count  Dtype \n",
            "---  ------      --------------  ----- \n",
            " 0   date        40839 non-null  object\n",
            " 1   home_team   40839 non-null  object\n",
            " 2   away_team   40839 non-null  object\n",
            " 3   home_score  40839 non-null  int64 \n",
            " 4   away_score  40839 non-null  int64 \n",
            " 5   tournament  40839 non-null  object\n",
            " 6   city        40839 non-null  object\n",
            " 7   country     40839 non-null  object\n",
            " 8   neutral     40839 non-null  bool  \n",
            "dtypes: bool(1), int64(2), object(6)\n",
            "memory usage: 2.5+ MB\n"
          ],
          "name": "stdout"
        }
      ]
    },
    {
      "cell_type": "code",
      "metadata": {
        "id": "XiYtvXQd6QPC",
        "colab_type": "code",
        "colab": {
          "base_uri": "https://localhost:8080/",
          "height": 297
        },
        "outputId": "beffac4e-6055-4e83-d174-71efc374b8c6"
      },
      "source": [
        "# Previewing statistical summaries of the results_df\n",
        "\n",
        "results_df.describe()"
      ],
      "execution_count": null,
      "outputs": [
        {
          "output_type": "execute_result",
          "data": {
            "text/html": [
              "<div>\n",
              "<style scoped>\n",
              "    .dataframe tbody tr th:only-of-type {\n",
              "        vertical-align: middle;\n",
              "    }\n",
              "\n",
              "    .dataframe tbody tr th {\n",
              "        vertical-align: top;\n",
              "    }\n",
              "\n",
              "    .dataframe thead th {\n",
              "        text-align: right;\n",
              "    }\n",
              "</style>\n",
              "<table border=\"1\" class=\"dataframe\">\n",
              "  <thead>\n",
              "    <tr style=\"text-align: right;\">\n",
              "      <th></th>\n",
              "      <th>home_score</th>\n",
              "      <th>away_score</th>\n",
              "    </tr>\n",
              "  </thead>\n",
              "  <tbody>\n",
              "    <tr>\n",
              "      <th>count</th>\n",
              "      <td>40839.000000</td>\n",
              "      <td>40839.000000</td>\n",
              "    </tr>\n",
              "    <tr>\n",
              "      <th>mean</th>\n",
              "      <td>1.745709</td>\n",
              "      <td>1.188105</td>\n",
              "    </tr>\n",
              "    <tr>\n",
              "      <th>std</th>\n",
              "      <td>1.749145</td>\n",
              "      <td>1.405120</td>\n",
              "    </tr>\n",
              "    <tr>\n",
              "      <th>min</th>\n",
              "      <td>0.000000</td>\n",
              "      <td>0.000000</td>\n",
              "    </tr>\n",
              "    <tr>\n",
              "      <th>25%</th>\n",
              "      <td>1.000000</td>\n",
              "      <td>0.000000</td>\n",
              "    </tr>\n",
              "    <tr>\n",
              "      <th>50%</th>\n",
              "      <td>1.000000</td>\n",
              "      <td>1.000000</td>\n",
              "    </tr>\n",
              "    <tr>\n",
              "      <th>75%</th>\n",
              "      <td>2.000000</td>\n",
              "      <td>2.000000</td>\n",
              "    </tr>\n",
              "    <tr>\n",
              "      <th>max</th>\n",
              "      <td>31.000000</td>\n",
              "      <td>21.000000</td>\n",
              "    </tr>\n",
              "  </tbody>\n",
              "</table>\n",
              "</div>"
            ],
            "text/plain": [
              "         home_score    away_score\n",
              "count  40839.000000  40839.000000\n",
              "mean       1.745709      1.188105\n",
              "std        1.749145      1.405120\n",
              "min        0.000000      0.000000\n",
              "25%        1.000000      0.000000\n",
              "50%        1.000000      1.000000\n",
              "75%        2.000000      2.000000\n",
              "max       31.000000     21.000000"
            ]
          },
          "metadata": {
            "tags": []
          },
          "execution_count": 222
        }
      ]
    },
    {
      "cell_type": "code",
      "metadata": {
        "id": "oX_VzdYw6QNO",
        "colab_type": "code",
        "colab": {
          "base_uri": "https://localhost:8080/",
          "height": 187
        },
        "outputId": "746e989e-c1d7-4100-c325-27a296c97b50"
      },
      "source": [
        "# Checking for missing values of the results_df\n",
        "\n",
        "results_df.isnull().sum()"
      ],
      "execution_count": null,
      "outputs": [
        {
          "output_type": "execute_result",
          "data": {
            "text/plain": [
              "date          0\n",
              "home_team     0\n",
              "away_team     0\n",
              "home_score    0\n",
              "away_score    0\n",
              "tournament    0\n",
              "city          0\n",
              "country       0\n",
              "neutral       0\n",
              "dtype: int64"
            ]
          },
          "metadata": {
            "tags": []
          },
          "execution_count": 223
        }
      ]
    },
    {
      "cell_type": "code",
      "metadata": {
        "id": "GyAOEZ1snuwe",
        "colab_type": "code",
        "colab": {
          "base_uri": "https://localhost:8080/",
          "height": 34
        },
        "outputId": "ed8e8b76-0d6c-46d6-c341-e40a0ed3f20c"
      },
      "source": [
        "# Checking for duplicates\n",
        "\n",
        "results_df.duplicated().any()"
      ],
      "execution_count": null,
      "outputs": [
        {
          "output_type": "execute_result",
          "data": {
            "text/plain": [
              "False"
            ]
          },
          "metadata": {
            "tags": []
          },
          "execution_count": 224
        }
      ]
    },
    {
      "cell_type": "markdown",
      "metadata": {
        "id": "K54K-Om71jC2",
        "colab_type": "text"
      },
      "source": [
        "### Tidying the Dataset"
      ]
    },
    {
      "cell_type": "code",
      "metadata": {
        "id": "DJrnjXSdGoFA",
        "colab_type": "code",
        "colab": {}
      },
      "source": [
        "# Renaming the rank_date column\n",
        "\n",
        "fifa_ranking_df.rank_date = fifa_ranking_df.rename({'rank_date': 'date'}, axis = 1, inplace = True)"
      ],
      "execution_count": null,
      "outputs": []
    },
    {
      "cell_type": "code",
      "metadata": {
        "id": "6gb0BRxwsrYR",
        "colab_type": "code",
        "colab": {}
      },
      "source": [
        "# Making the date columns uniform\n",
        "\n",
        "results_df.date = results_df.date.apply(lambda x: x.replace('/', '-'))\n",
        "fifa_ranking_df.date = fifa_ranking_df.date.apply(lambda x: x.replace('/', '-'))"
      ],
      "execution_count": null,
      "outputs": []
    },
    {
      "cell_type": "code",
      "metadata": {
        "id": "4UUEsuYJnMv3",
        "colab_type": "code",
        "colab": {}
      },
      "source": [
        "# Changing the date columns to datetime \n",
        "\n",
        "fifa_ranking_df.date = pd.to_datetime(fifa_ranking_df.date)\n",
        "results_df.date = pd.to_datetime(results_df.date)"
      ],
      "execution_count": null,
      "outputs": []
    },
    {
      "cell_type": "code",
      "metadata": {
        "id": "Wb__-ToW2k_9",
        "colab_type": "code",
        "colab": {}
      },
      "source": [
        "# Creating a year and month column from datetime \n",
        "\n",
        "fifa_ranking_df['year'] = fifa_ranking_df.date.dt.year\n",
        "results_df['year'] = results_df.date.dt.year\n",
        "\n",
        "fifa_ranking_df['month'] = fifa_ranking_df.date.dt.month\n",
        "results_df['month'] = fifa_ranking_df.date.dt.month"
      ],
      "execution_count": null,
      "outputs": []
    },
    {
      "cell_type": "code",
      "metadata": {
        "id": "LAk3H7f_srWW",
        "colab_type": "code",
        "colab": {
          "base_uri": "https://localhost:8080/",
          "height": 68
        },
        "outputId": "38b78df2-0af6-4c02-957d-e28cfcfe7046"
      },
      "source": [
        "# Checking the unique years in the fifa_ranking_df\n",
        "\n",
        "fifa_ranking_df.year.unique()"
      ],
      "execution_count": null,
      "outputs": [
        {
          "output_type": "execute_result",
          "data": {
            "text/plain": [
              "array([1993, 1994, 1995, 1996, 1997, 1998, 1999, 2000, 2001, 2002, 2003,\n",
              "       2004, 2005, 2006, 2007, 2008, 2009, 2010, 2011, 2012, 2013, 2014,\n",
              "       2015, 2016, 2017, 2018])"
            ]
          },
          "metadata": {
            "tags": []
          },
          "execution_count": 229
        }
      ]
    },
    {
      "cell_type": "code",
      "metadata": {
        "id": "5ALmAa_iPtLS",
        "colab_type": "code",
        "colab": {
          "base_uri": "https://localhost:8080/",
          "height": 255
        },
        "outputId": "16e80f1c-155a-4bdc-a41d-371627482c19"
      },
      "source": [
        "# Checking the unique years in the results_df\n",
        "\n",
        "results_df.year.unique()"
      ],
      "execution_count": null,
      "outputs": [
        {
          "output_type": "execute_result",
          "data": {
            "text/plain": [
              "array([1872, 1873, 1874, 1875, 1876, 1877, 1878, 1879, 1880, 1881, 1882,\n",
              "       1883, 1884, 1885, 1886, 1887, 1888, 1889, 1890, 1891, 1892, 1893,\n",
              "       1894, 1895, 1896, 1897, 1898, 1899, 1900, 1901, 1902, 1903, 1904,\n",
              "       1905, 1906, 1907, 1908, 1909, 1910, 1911, 1912, 1913, 1914, 1915,\n",
              "       1916, 1917, 1918, 1919, 1920, 1921, 1922, 1923, 1924, 1925, 1926,\n",
              "       1927, 1928, 1929, 1930, 1931, 1932, 1933, 1934, 1935, 1936, 1937,\n",
              "       1938, 1939, 1940, 1941, 1942, 1943, 1944, 1945, 1946, 1947, 1948,\n",
              "       1949, 1950, 1951, 1952, 1953, 1954, 1955, 1956, 1957, 1958, 1959,\n",
              "       1960, 1961, 1962, 1963, 1964, 1965, 1966, 1967, 1968, 1969, 1970,\n",
              "       1971, 1972, 1973, 1974, 1975, 1976, 1977, 1978, 1979, 1980, 1981,\n",
              "       1982, 1983, 1984, 1985, 1986, 1987, 1988, 1989, 1990, 1991, 1992,\n",
              "       1993, 1994, 1995, 1996, 1997, 1998, 1999, 2000, 2001, 2002, 2003,\n",
              "       2004, 2005, 2006, 2007, 2008, 2009, 2010, 2011, 2012, 2013, 2014,\n",
              "       2015, 2016, 2017, 2018, 2019])"
            ]
          },
          "metadata": {
            "tags": []
          },
          "execution_count": 230
        }
      ]
    },
    {
      "cell_type": "code",
      "metadata": {
        "id": "Ec7w46c0Ps_b",
        "colab_type": "code",
        "colab": {}
      },
      "source": [
        "# Merging results_df to the fifa_ranking_df on both year and month\n",
        "\n",
        "merged_df = pd.merge(results_df, fifa_ranking_df, how = 'left', left_on = ['year', 'month'], right_on = ['year', 'month'])"
      ],
      "execution_count": null,
      "outputs": []
    },
    {
      "cell_type": "code",
      "metadata": {
        "id": "4e6TBbp7Ps7G",
        "colab_type": "code",
        "colab": {
          "base_uri": "https://localhost:8080/",
          "height": 309
        },
        "outputId": "dca70fe2-05a5-4589-eb67-e98e3f540502"
      },
      "source": [
        "# Previewing the merged_df \n",
        "\n",
        "merged_df.head()"
      ],
      "execution_count": null,
      "outputs": [
        {
          "output_type": "execute_result",
          "data": {
            "text/html": [
              "<div>\n",
              "<style scoped>\n",
              "    .dataframe tbody tr th:only-of-type {\n",
              "        vertical-align: middle;\n",
              "    }\n",
              "\n",
              "    .dataframe tbody tr th {\n",
              "        vertical-align: top;\n",
              "    }\n",
              "\n",
              "    .dataframe thead th {\n",
              "        text-align: right;\n",
              "    }\n",
              "</style>\n",
              "<table border=\"1\" class=\"dataframe\">\n",
              "  <thead>\n",
              "    <tr style=\"text-align: right;\">\n",
              "      <th></th>\n",
              "      <th>date_x</th>\n",
              "      <th>home_team</th>\n",
              "      <th>away_team</th>\n",
              "      <th>home_score</th>\n",
              "      <th>away_score</th>\n",
              "      <th>tournament</th>\n",
              "      <th>city</th>\n",
              "      <th>country</th>\n",
              "      <th>neutral</th>\n",
              "      <th>year</th>\n",
              "      <th>month</th>\n",
              "      <th>rank</th>\n",
              "      <th>country_full</th>\n",
              "      <th>country_abrv</th>\n",
              "      <th>total_points</th>\n",
              "      <th>previous_points</th>\n",
              "      <th>rank_change</th>\n",
              "      <th>cur_year_avg</th>\n",
              "      <th>cur_year_avg_weighted</th>\n",
              "      <th>last_year_avg</th>\n",
              "      <th>last_year_avg_weighted</th>\n",
              "      <th>two_year_ago_avg</th>\n",
              "      <th>two_year_ago_weighted</th>\n",
              "      <th>three_year_ago_avg</th>\n",
              "      <th>three_year_ago_weighted</th>\n",
              "      <th>confederation</th>\n",
              "      <th>date_y</th>\n",
              "    </tr>\n",
              "  </thead>\n",
              "  <tbody>\n",
              "    <tr>\n",
              "      <th>0</th>\n",
              "      <td>1872-11-30</td>\n",
              "      <td>Scotland</td>\n",
              "      <td>England</td>\n",
              "      <td>0</td>\n",
              "      <td>0</td>\n",
              "      <td>Friendly</td>\n",
              "      <td>Glasgow</td>\n",
              "      <td>Scotland</td>\n",
              "      <td>False</td>\n",
              "      <td>1872</td>\n",
              "      <td>8</td>\n",
              "      <td>NaN</td>\n",
              "      <td>NaN</td>\n",
              "      <td>NaN</td>\n",
              "      <td>NaN</td>\n",
              "      <td>NaN</td>\n",
              "      <td>NaN</td>\n",
              "      <td>NaN</td>\n",
              "      <td>NaN</td>\n",
              "      <td>NaN</td>\n",
              "      <td>NaN</td>\n",
              "      <td>NaN</td>\n",
              "      <td>NaN</td>\n",
              "      <td>NaN</td>\n",
              "      <td>NaN</td>\n",
              "      <td>NaN</td>\n",
              "      <td>NaT</td>\n",
              "    </tr>\n",
              "    <tr>\n",
              "      <th>1</th>\n",
              "      <td>1873-03-08</td>\n",
              "      <td>England</td>\n",
              "      <td>Scotland</td>\n",
              "      <td>4</td>\n",
              "      <td>2</td>\n",
              "      <td>Friendly</td>\n",
              "      <td>London</td>\n",
              "      <td>England</td>\n",
              "      <td>False</td>\n",
              "      <td>1873</td>\n",
              "      <td>8</td>\n",
              "      <td>NaN</td>\n",
              "      <td>NaN</td>\n",
              "      <td>NaN</td>\n",
              "      <td>NaN</td>\n",
              "      <td>NaN</td>\n",
              "      <td>NaN</td>\n",
              "      <td>NaN</td>\n",
              "      <td>NaN</td>\n",
              "      <td>NaN</td>\n",
              "      <td>NaN</td>\n",
              "      <td>NaN</td>\n",
              "      <td>NaN</td>\n",
              "      <td>NaN</td>\n",
              "      <td>NaN</td>\n",
              "      <td>NaN</td>\n",
              "      <td>NaT</td>\n",
              "    </tr>\n",
              "    <tr>\n",
              "      <th>2</th>\n",
              "      <td>1874-03-07</td>\n",
              "      <td>Scotland</td>\n",
              "      <td>England</td>\n",
              "      <td>2</td>\n",
              "      <td>1</td>\n",
              "      <td>Friendly</td>\n",
              "      <td>Glasgow</td>\n",
              "      <td>Scotland</td>\n",
              "      <td>False</td>\n",
              "      <td>1874</td>\n",
              "      <td>8</td>\n",
              "      <td>NaN</td>\n",
              "      <td>NaN</td>\n",
              "      <td>NaN</td>\n",
              "      <td>NaN</td>\n",
              "      <td>NaN</td>\n",
              "      <td>NaN</td>\n",
              "      <td>NaN</td>\n",
              "      <td>NaN</td>\n",
              "      <td>NaN</td>\n",
              "      <td>NaN</td>\n",
              "      <td>NaN</td>\n",
              "      <td>NaN</td>\n",
              "      <td>NaN</td>\n",
              "      <td>NaN</td>\n",
              "      <td>NaN</td>\n",
              "      <td>NaT</td>\n",
              "    </tr>\n",
              "    <tr>\n",
              "      <th>3</th>\n",
              "      <td>1875-03-06</td>\n",
              "      <td>England</td>\n",
              "      <td>Scotland</td>\n",
              "      <td>2</td>\n",
              "      <td>2</td>\n",
              "      <td>Friendly</td>\n",
              "      <td>London</td>\n",
              "      <td>England</td>\n",
              "      <td>False</td>\n",
              "      <td>1875</td>\n",
              "      <td>8</td>\n",
              "      <td>NaN</td>\n",
              "      <td>NaN</td>\n",
              "      <td>NaN</td>\n",
              "      <td>NaN</td>\n",
              "      <td>NaN</td>\n",
              "      <td>NaN</td>\n",
              "      <td>NaN</td>\n",
              "      <td>NaN</td>\n",
              "      <td>NaN</td>\n",
              "      <td>NaN</td>\n",
              "      <td>NaN</td>\n",
              "      <td>NaN</td>\n",
              "      <td>NaN</td>\n",
              "      <td>NaN</td>\n",
              "      <td>NaN</td>\n",
              "      <td>NaT</td>\n",
              "    </tr>\n",
              "    <tr>\n",
              "      <th>4</th>\n",
              "      <td>1876-03-04</td>\n",
              "      <td>Scotland</td>\n",
              "      <td>England</td>\n",
              "      <td>3</td>\n",
              "      <td>0</td>\n",
              "      <td>Friendly</td>\n",
              "      <td>Glasgow</td>\n",
              "      <td>Scotland</td>\n",
              "      <td>False</td>\n",
              "      <td>1876</td>\n",
              "      <td>8</td>\n",
              "      <td>NaN</td>\n",
              "      <td>NaN</td>\n",
              "      <td>NaN</td>\n",
              "      <td>NaN</td>\n",
              "      <td>NaN</td>\n",
              "      <td>NaN</td>\n",
              "      <td>NaN</td>\n",
              "      <td>NaN</td>\n",
              "      <td>NaN</td>\n",
              "      <td>NaN</td>\n",
              "      <td>NaN</td>\n",
              "      <td>NaN</td>\n",
              "      <td>NaN</td>\n",
              "      <td>NaN</td>\n",
              "      <td>NaN</td>\n",
              "      <td>NaT</td>\n",
              "    </tr>\n",
              "  </tbody>\n",
              "</table>\n",
              "</div>"
            ],
            "text/plain": [
              "      date_x home_team away_team  ...  three_year_ago_weighted  confederation date_y\n",
              "0 1872-11-30  Scotland   England  ...                      NaN            NaN    NaT\n",
              "1 1873-03-08   England  Scotland  ...                      NaN            NaN    NaT\n",
              "2 1874-03-07  Scotland   England  ...                      NaN            NaN    NaT\n",
              "3 1875-03-06   England  Scotland  ...                      NaN            NaN    NaT\n",
              "4 1876-03-04  Scotland   England  ...                      NaN            NaN    NaT\n",
              "\n",
              "[5 rows x 27 columns]"
            ]
          },
          "metadata": {
            "tags": []
          },
          "execution_count": 232
        }
      ]
    },
    {
      "cell_type": "code",
      "metadata": {
        "id": "uOBN6L3ePs5U",
        "colab_type": "code",
        "colab": {}
      },
      "source": [
        "# Selecting the ranking details of the home team only\n",
        "\n",
        "home_merged_df = merged_df[merged_df.home_team == merged_df.country_full]"
      ],
      "execution_count": null,
      "outputs": []
    },
    {
      "cell_type": "code",
      "metadata": {
        "id": "AInA6zu93pWo",
        "colab_type": "code",
        "colab": {
          "base_uri": "https://localhost:8080/",
          "height": 309
        },
        "outputId": "03a92429-ec0f-4b9c-fc88-e16dfad5c595"
      },
      "source": [
        "# Previewing the home_combined dataframe\n",
        "\n",
        "home_merged_df.head()"
      ],
      "execution_count": null,
      "outputs": [
        {
          "output_type": "execute_result",
          "data": {
            "text/html": [
              "<div>\n",
              "<style scoped>\n",
              "    .dataframe tbody tr th:only-of-type {\n",
              "        vertical-align: middle;\n",
              "    }\n",
              "\n",
              "    .dataframe tbody tr th {\n",
              "        vertical-align: top;\n",
              "    }\n",
              "\n",
              "    .dataframe thead th {\n",
              "        text-align: right;\n",
              "    }\n",
              "</style>\n",
              "<table border=\"1\" class=\"dataframe\">\n",
              "  <thead>\n",
              "    <tr style=\"text-align: right;\">\n",
              "      <th></th>\n",
              "      <th>date_x</th>\n",
              "      <th>home_team</th>\n",
              "      <th>away_team</th>\n",
              "      <th>home_score</th>\n",
              "      <th>away_score</th>\n",
              "      <th>tournament</th>\n",
              "      <th>city</th>\n",
              "      <th>country</th>\n",
              "      <th>neutral</th>\n",
              "      <th>year</th>\n",
              "      <th>month</th>\n",
              "      <th>rank</th>\n",
              "      <th>country_full</th>\n",
              "      <th>country_abrv</th>\n",
              "      <th>total_points</th>\n",
              "      <th>previous_points</th>\n",
              "      <th>rank_change</th>\n",
              "      <th>cur_year_avg</th>\n",
              "      <th>cur_year_avg_weighted</th>\n",
              "      <th>last_year_avg</th>\n",
              "      <th>last_year_avg_weighted</th>\n",
              "      <th>two_year_ago_avg</th>\n",
              "      <th>two_year_ago_weighted</th>\n",
              "      <th>three_year_ago_avg</th>\n",
              "      <th>three_year_ago_weighted</th>\n",
              "      <th>confederation</th>\n",
              "      <th>date_y</th>\n",
              "    </tr>\n",
              "  </thead>\n",
              "  <tbody>\n",
              "    <tr>\n",
              "      <th>18192</th>\n",
              "      <td>1994-01-02</td>\n",
              "      <td>Barbados</td>\n",
              "      <td>Grenada</td>\n",
              "      <td>0</td>\n",
              "      <td>0</td>\n",
              "      <td>Friendly</td>\n",
              "      <td>Bridgetown</td>\n",
              "      <td>Barbados</td>\n",
              "      <td>False</td>\n",
              "      <td>1994</td>\n",
              "      <td>4</td>\n",
              "      <td>99.0</td>\n",
              "      <td>Barbados</td>\n",
              "      <td>BRB</td>\n",
              "      <td>0.0</td>\n",
              "      <td>13.0</td>\n",
              "      <td>2.0</td>\n",
              "      <td>0.0</td>\n",
              "      <td>0.0</td>\n",
              "      <td>0.0</td>\n",
              "      <td>0.0</td>\n",
              "      <td>0.0</td>\n",
              "      <td>0.0</td>\n",
              "      <td>0.0</td>\n",
              "      <td>0.0</td>\n",
              "      <td>CONCACAF</td>\n",
              "      <td>1994-04-19</td>\n",
              "    </tr>\n",
              "    <tr>\n",
              "      <th>18291</th>\n",
              "      <td>1994-01-02</td>\n",
              "      <td>Ghana</td>\n",
              "      <td>Egypt</td>\n",
              "      <td>2</td>\n",
              "      <td>1</td>\n",
              "      <td>Friendly</td>\n",
              "      <td>Accra</td>\n",
              "      <td>Ghana</td>\n",
              "      <td>False</td>\n",
              "      <td>1994</td>\n",
              "      <td>4</td>\n",
              "      <td>29.0</td>\n",
              "      <td>Ghana</td>\n",
              "      <td>GHA</td>\n",
              "      <td>0.0</td>\n",
              "      <td>41.0</td>\n",
              "      <td>2.0</td>\n",
              "      <td>0.0</td>\n",
              "      <td>0.0</td>\n",
              "      <td>0.0</td>\n",
              "      <td>0.0</td>\n",
              "      <td>0.0</td>\n",
              "      <td>0.0</td>\n",
              "      <td>0.0</td>\n",
              "      <td>0.0</td>\n",
              "      <td>CAF</td>\n",
              "      <td>1994-04-19</td>\n",
              "    </tr>\n",
              "    <tr>\n",
              "      <th>18479</th>\n",
              "      <td>1994-01-05</td>\n",
              "      <td>Mali</td>\n",
              "      <td>Burkina Faso</td>\n",
              "      <td>1</td>\n",
              "      <td>1</td>\n",
              "      <td>Friendly</td>\n",
              "      <td>Bamako</td>\n",
              "      <td>Mali</td>\n",
              "      <td>False</td>\n",
              "      <td>1994</td>\n",
              "      <td>4</td>\n",
              "      <td>48.0</td>\n",
              "      <td>Mali</td>\n",
              "      <td>MLI</td>\n",
              "      <td>0.0</td>\n",
              "      <td>31.0</td>\n",
              "      <td>9.0</td>\n",
              "      <td>0.0</td>\n",
              "      <td>0.0</td>\n",
              "      <td>0.0</td>\n",
              "      <td>0.0</td>\n",
              "      <td>0.0</td>\n",
              "      <td>0.0</td>\n",
              "      <td>0.0</td>\n",
              "      <td>0.0</td>\n",
              "      <td>CAF</td>\n",
              "      <td>1994-04-19</td>\n",
              "    </tr>\n",
              "    <tr>\n",
              "      <th>18747</th>\n",
              "      <td>1994-01-09</td>\n",
              "      <td>Mauritania</td>\n",
              "      <td>Mali</td>\n",
              "      <td>1</td>\n",
              "      <td>3</td>\n",
              "      <td>Friendly</td>\n",
              "      <td>Nouakchott</td>\n",
              "      <td>Mauritania</td>\n",
              "      <td>False</td>\n",
              "      <td>1994</td>\n",
              "      <td>4</td>\n",
              "      <td>147.0</td>\n",
              "      <td>Mauritania</td>\n",
              "      <td>MTN</td>\n",
              "      <td>0.0</td>\n",
              "      <td>3.0</td>\n",
              "      <td>-1.0</td>\n",
              "      <td>0.0</td>\n",
              "      <td>0.0</td>\n",
              "      <td>0.0</td>\n",
              "      <td>0.0</td>\n",
              "      <td>0.0</td>\n",
              "      <td>0.0</td>\n",
              "      <td>0.0</td>\n",
              "      <td>0.0</td>\n",
              "      <td>CAF</td>\n",
              "      <td>1994-04-19</td>\n",
              "    </tr>\n",
              "    <tr>\n",
              "      <th>18838</th>\n",
              "      <td>1994-01-11</td>\n",
              "      <td>Thailand</td>\n",
              "      <td>Nigeria</td>\n",
              "      <td>1</td>\n",
              "      <td>1</td>\n",
              "      <td>Friendly</td>\n",
              "      <td>Bangkok</td>\n",
              "      <td>Thailand</td>\n",
              "      <td>False</td>\n",
              "      <td>1994</td>\n",
              "      <td>4</td>\n",
              "      <td>69.0</td>\n",
              "      <td>Thailand</td>\n",
              "      <td>THA</td>\n",
              "      <td>0.0</td>\n",
              "      <td>25.0</td>\n",
              "      <td>1.0</td>\n",
              "      <td>0.0</td>\n",
              "      <td>0.0</td>\n",
              "      <td>0.0</td>\n",
              "      <td>0.0</td>\n",
              "      <td>0.0</td>\n",
              "      <td>0.0</td>\n",
              "      <td>0.0</td>\n",
              "      <td>0.0</td>\n",
              "      <td>AFC</td>\n",
              "      <td>1994-04-19</td>\n",
              "    </tr>\n",
              "  </tbody>\n",
              "</table>\n",
              "</div>"
            ],
            "text/plain": [
              "          date_x   home_team  ... confederation     date_y\n",
              "18192 1994-01-02    Barbados  ...      CONCACAF 1994-04-19\n",
              "18291 1994-01-02       Ghana  ...           CAF 1994-04-19\n",
              "18479 1994-01-05        Mali  ...           CAF 1994-04-19\n",
              "18747 1994-01-09  Mauritania  ...           CAF 1994-04-19\n",
              "18838 1994-01-11    Thailand  ...           AFC 1994-04-19\n",
              "\n",
              "[5 rows x 27 columns]"
            ]
          },
          "metadata": {
            "tags": []
          },
          "execution_count": 234
        }
      ]
    },
    {
      "cell_type": "code",
      "metadata": {
        "id": "pdV3sCo6wkqW",
        "colab_type": "code",
        "colab": {}
      },
      "source": [
        "# Renaming the selected home_combined columns \n",
        "\n",
        "home_merged_df.columns = map(str.lower, home_merged_df.columns)\n",
        "columns = ['date_x','home_team','away_team','home_score','away_score','tournament','city','country','neutral','year','month','rank_home','country_full_home',\t\n",
        "           'country_abrv_home','total_points_home','previous_points_home','rank_change_home','cur_year_avg_home','cur_year_avg_weighted_home','last_year_avg_home','last_year_avg_weighted_home',\n",
        "           'two_year_ago_avg_home','two_year_ago_weighted_home','three_year_ago_avg_home','three_year_ago_weighted_home','confederation','date_y']\n",
        "\n",
        "home_merged_df.columns = columns"
      ],
      "execution_count": null,
      "outputs": []
    },
    {
      "cell_type": "code",
      "metadata": {
        "id": "KDXBdJPmFJN3",
        "colab_type": "code",
        "colab": {
          "base_uri": "https://localhost:8080/",
          "height": 170
        },
        "outputId": "cfd325cd-209e-4759-feca-aa5d60c3f2ea"
      },
      "source": [
        "# Previewing the renamed columns\n",
        "home_merged_df.columns"
      ],
      "execution_count": null,
      "outputs": [
        {
          "output_type": "execute_result",
          "data": {
            "text/plain": [
              "Index(['date_x', 'home_team', 'away_team', 'home_score', 'away_score',\n",
              "       'tournament', 'city', 'country', 'neutral', 'year', 'month',\n",
              "       'rank_home', 'country_full_home', 'country_abrv_home',\n",
              "       'total_points_home', 'previous_points_home', 'rank_change_home',\n",
              "       'cur_year_avg_home', 'cur_year_avg_weighted_home', 'last_year_avg_home',\n",
              "       'last_year_avg_weighted_home', 'two_year_ago_avg_home',\n",
              "       'two_year_ago_weighted_home', 'three_year_ago_avg_home',\n",
              "       'three_year_ago_weighted_home', 'confederation', 'date_y'],\n",
              "      dtype='object')"
            ]
          },
          "metadata": {
            "tags": []
          },
          "execution_count": 236
        }
      ]
    },
    {
      "cell_type": "code",
      "metadata": {
        "id": "rwf6wif2Ps24",
        "colab_type": "code",
        "colab": {}
      },
      "source": [
        "# Selecting the ranking details of the away team\n",
        "\n",
        "away_merged_df = merged_df[merged_df.away_team == merged_df.country_full]"
      ],
      "execution_count": null,
      "outputs": []
    },
    {
      "cell_type": "code",
      "metadata": {
        "id": "0sTJ6qmX_8tA",
        "colab_type": "code",
        "colab": {
          "base_uri": "https://localhost:8080/",
          "height": 309
        },
        "outputId": "9f28ed6d-b7e3-418f-d7c0-492835d1b89e"
      },
      "source": [
        "# Previewing the records of the away_combined dataframe\n",
        "\n",
        "away_merged_df.head()"
      ],
      "execution_count": null,
      "outputs": [
        {
          "output_type": "execute_result",
          "data": {
            "text/html": [
              "<div>\n",
              "<style scoped>\n",
              "    .dataframe tbody tr th:only-of-type {\n",
              "        vertical-align: middle;\n",
              "    }\n",
              "\n",
              "    .dataframe tbody tr th {\n",
              "        vertical-align: top;\n",
              "    }\n",
              "\n",
              "    .dataframe thead th {\n",
              "        text-align: right;\n",
              "    }\n",
              "</style>\n",
              "<table border=\"1\" class=\"dataframe\">\n",
              "  <thead>\n",
              "    <tr style=\"text-align: right;\">\n",
              "      <th></th>\n",
              "      <th>date_x</th>\n",
              "      <th>home_team</th>\n",
              "      <th>away_team</th>\n",
              "      <th>home_score</th>\n",
              "      <th>away_score</th>\n",
              "      <th>tournament</th>\n",
              "      <th>city</th>\n",
              "      <th>country</th>\n",
              "      <th>neutral</th>\n",
              "      <th>year</th>\n",
              "      <th>month</th>\n",
              "      <th>rank</th>\n",
              "      <th>country_full</th>\n",
              "      <th>country_abrv</th>\n",
              "      <th>total_points</th>\n",
              "      <th>previous_points</th>\n",
              "      <th>rank_change</th>\n",
              "      <th>cur_year_avg</th>\n",
              "      <th>cur_year_avg_weighted</th>\n",
              "      <th>last_year_avg</th>\n",
              "      <th>last_year_avg_weighted</th>\n",
              "      <th>two_year_ago_avg</th>\n",
              "      <th>two_year_ago_weighted</th>\n",
              "      <th>three_year_ago_avg</th>\n",
              "      <th>three_year_ago_weighted</th>\n",
              "      <th>confederation</th>\n",
              "      <th>date_y</th>\n",
              "    </tr>\n",
              "  </thead>\n",
              "  <tbody>\n",
              "    <tr>\n",
              "      <th>18224</th>\n",
              "      <td>1994-01-02</td>\n",
              "      <td>Barbados</td>\n",
              "      <td>Grenada</td>\n",
              "      <td>0</td>\n",
              "      <td>0</td>\n",
              "      <td>Friendly</td>\n",
              "      <td>Bridgetown</td>\n",
              "      <td>Barbados</td>\n",
              "      <td>False</td>\n",
              "      <td>1994</td>\n",
              "      <td>4</td>\n",
              "      <td>131.0</td>\n",
              "      <td>Grenada</td>\n",
              "      <td>GRN</td>\n",
              "      <td>0.0</td>\n",
              "      <td>7.0</td>\n",
              "      <td>1.0</td>\n",
              "      <td>0.0</td>\n",
              "      <td>0.0</td>\n",
              "      <td>0.0</td>\n",
              "      <td>0.0</td>\n",
              "      <td>0.0</td>\n",
              "      <td>0.0</td>\n",
              "      <td>0.0</td>\n",
              "      <td>0.0</td>\n",
              "      <td>CONCACAF</td>\n",
              "      <td>1994-04-19</td>\n",
              "    </tr>\n",
              "    <tr>\n",
              "      <th>18286</th>\n",
              "      <td>1994-01-02</td>\n",
              "      <td>Ghana</td>\n",
              "      <td>Egypt</td>\n",
              "      <td>2</td>\n",
              "      <td>1</td>\n",
              "      <td>Friendly</td>\n",
              "      <td>Accra</td>\n",
              "      <td>Ghana</td>\n",
              "      <td>False</td>\n",
              "      <td>1994</td>\n",
              "      <td>4</td>\n",
              "      <td>24.0</td>\n",
              "      <td>Egypt</td>\n",
              "      <td>EGY</td>\n",
              "      <td>0.0</td>\n",
              "      <td>44.0</td>\n",
              "      <td>1.0</td>\n",
              "      <td>0.0</td>\n",
              "      <td>0.0</td>\n",
              "      <td>0.0</td>\n",
              "      <td>0.0</td>\n",
              "      <td>0.0</td>\n",
              "      <td>0.0</td>\n",
              "      <td>0.0</td>\n",
              "      <td>0.0</td>\n",
              "      <td>CAF</td>\n",
              "      <td>1994-04-19</td>\n",
              "    </tr>\n",
              "    <tr>\n",
              "      <th>18532</th>\n",
              "      <td>1994-01-05</td>\n",
              "      <td>Mali</td>\n",
              "      <td>Burkina Faso</td>\n",
              "      <td>1</td>\n",
              "      <td>1</td>\n",
              "      <td>Friendly</td>\n",
              "      <td>Bamako</td>\n",
              "      <td>Mali</td>\n",
              "      <td>False</td>\n",
              "      <td>1994</td>\n",
              "      <td>4</td>\n",
              "      <td>101.0</td>\n",
              "      <td>Burkina Faso</td>\n",
              "      <td>BFA</td>\n",
              "      <td>0.0</td>\n",
              "      <td>12.0</td>\n",
              "      <td>3.0</td>\n",
              "      <td>0.0</td>\n",
              "      <td>0.0</td>\n",
              "      <td>0.0</td>\n",
              "      <td>0.0</td>\n",
              "      <td>0.0</td>\n",
              "      <td>0.0</td>\n",
              "      <td>0.0</td>\n",
              "      <td>0.0</td>\n",
              "      <td>CAF</td>\n",
              "      <td>1994-04-19</td>\n",
              "    </tr>\n",
              "    <tr>\n",
              "      <th>18648</th>\n",
              "      <td>1994-01-09</td>\n",
              "      <td>Mauritania</td>\n",
              "      <td>Mali</td>\n",
              "      <td>1</td>\n",
              "      <td>3</td>\n",
              "      <td>Friendly</td>\n",
              "      <td>Nouakchott</td>\n",
              "      <td>Mauritania</td>\n",
              "      <td>False</td>\n",
              "      <td>1994</td>\n",
              "      <td>4</td>\n",
              "      <td>48.0</td>\n",
              "      <td>Mali</td>\n",
              "      <td>MLI</td>\n",
              "      <td>0.0</td>\n",
              "      <td>31.0</td>\n",
              "      <td>9.0</td>\n",
              "      <td>0.0</td>\n",
              "      <td>0.0</td>\n",
              "      <td>0.0</td>\n",
              "      <td>0.0</td>\n",
              "      <td>0.0</td>\n",
              "      <td>0.0</td>\n",
              "      <td>0.0</td>\n",
              "      <td>0.0</td>\n",
              "      <td>CAF</td>\n",
              "      <td>1994-04-19</td>\n",
              "    </tr>\n",
              "    <tr>\n",
              "      <th>18774</th>\n",
              "      <td>1994-01-11</td>\n",
              "      <td>Thailand</td>\n",
              "      <td>Nigeria</td>\n",
              "      <td>1</td>\n",
              "      <td>1</td>\n",
              "      <td>Friendly</td>\n",
              "      <td>Bangkok</td>\n",
              "      <td>Thailand</td>\n",
              "      <td>False</td>\n",
              "      <td>1994</td>\n",
              "      <td>4</td>\n",
              "      <td>5.0</td>\n",
              "      <td>Nigeria</td>\n",
              "      <td>NGA</td>\n",
              "      <td>0.0</td>\n",
              "      <td>49.0</td>\n",
              "      <td>13.0</td>\n",
              "      <td>0.0</td>\n",
              "      <td>0.0</td>\n",
              "      <td>0.0</td>\n",
              "      <td>0.0</td>\n",
              "      <td>0.0</td>\n",
              "      <td>0.0</td>\n",
              "      <td>0.0</td>\n",
              "      <td>0.0</td>\n",
              "      <td>CAF</td>\n",
              "      <td>1994-04-19</td>\n",
              "    </tr>\n",
              "  </tbody>\n",
              "</table>\n",
              "</div>"
            ],
            "text/plain": [
              "          date_x   home_team  ... confederation     date_y\n",
              "18224 1994-01-02    Barbados  ...      CONCACAF 1994-04-19\n",
              "18286 1994-01-02       Ghana  ...           CAF 1994-04-19\n",
              "18532 1994-01-05        Mali  ...           CAF 1994-04-19\n",
              "18648 1994-01-09  Mauritania  ...           CAF 1994-04-19\n",
              "18774 1994-01-11    Thailand  ...           CAF 1994-04-19\n",
              "\n",
              "[5 rows x 27 columns]"
            ]
          },
          "metadata": {
            "tags": []
          },
          "execution_count": 238
        }
      ]
    },
    {
      "cell_type": "code",
      "metadata": {
        "id": "4_ITMTdQ0XCj",
        "colab_type": "code",
        "colab": {
          "base_uri": "https://localhost:8080/",
          "height": 153
        },
        "outputId": "062424d5-1b49-40b8-de50-81245ac2b8d0"
      },
      "source": [
        "# Renaming the columns in the away_combined dataframe\n",
        "\n",
        "away_merged_df.columns"
      ],
      "execution_count": null,
      "outputs": [
        {
          "output_type": "execute_result",
          "data": {
            "text/plain": [
              "Index(['date_x', 'home_team', 'away_team', 'home_score', 'away_score',\n",
              "       'tournament', 'city', 'country', 'neutral', 'year', 'month', 'rank',\n",
              "       'country_full', 'country_abrv', 'total_points', 'previous_points',\n",
              "       'rank_change', 'cur_year_avg', 'cur_year_avg_weighted', 'last_year_avg',\n",
              "       'last_year_avg_weighted', 'two_year_ago_avg', 'two_year_ago_weighted',\n",
              "       'three_year_ago_avg', 'three_year_ago_weighted', 'confederation',\n",
              "       'date_y'],\n",
              "      dtype='object')"
            ]
          },
          "metadata": {
            "tags": []
          },
          "execution_count": 239
        }
      ]
    },
    {
      "cell_type": "code",
      "metadata": {
        "id": "7POSkHsC0XAS",
        "colab_type": "code",
        "colab": {}
      },
      "source": [
        "# Renaming the selected home_merged_df columns \n",
        "\n",
        "away_merged_df.columns = map(str.lower, away_merged_df.columns)\n",
        "columns = ['date_x','home_team','away_team','home_score','away_score','tournament','city','country','neutral','year','month','rank_away','country_full_away',\t\n",
        "           'country_abrv_away','total_points_away','previous_points_away','rank_change_away','cur_year_avg_away','cur_year_avg_weighted_away','last_year_avg_away','last_year_avg_weighted_away',\n",
        "           'two_year_ago_avg_away','two_year_ago_weighted_away','three_year_ago_avg_away','three_year_ago_weighted_away','confederation','date_y']\n",
        "away_merged_df.columns = columns"
      ],
      "execution_count": null,
      "outputs": []
    },
    {
      "cell_type": "code",
      "metadata": {
        "id": "EtsufQeEG1BV",
        "colab_type": "code",
        "colab": {
          "base_uri": "https://localhost:8080/",
          "height": 309
        },
        "outputId": "ab1483f4-ce1c-4067-8389-74a41b44bacc"
      },
      "source": [
        "# Previewing the renamed columns\n",
        "\n",
        "away_merged_df.head()"
      ],
      "execution_count": null,
      "outputs": [
        {
          "output_type": "execute_result",
          "data": {
            "text/html": [
              "<div>\n",
              "<style scoped>\n",
              "    .dataframe tbody tr th:only-of-type {\n",
              "        vertical-align: middle;\n",
              "    }\n",
              "\n",
              "    .dataframe tbody tr th {\n",
              "        vertical-align: top;\n",
              "    }\n",
              "\n",
              "    .dataframe thead th {\n",
              "        text-align: right;\n",
              "    }\n",
              "</style>\n",
              "<table border=\"1\" class=\"dataframe\">\n",
              "  <thead>\n",
              "    <tr style=\"text-align: right;\">\n",
              "      <th></th>\n",
              "      <th>date_x</th>\n",
              "      <th>home_team</th>\n",
              "      <th>away_team</th>\n",
              "      <th>home_score</th>\n",
              "      <th>away_score</th>\n",
              "      <th>tournament</th>\n",
              "      <th>city</th>\n",
              "      <th>country</th>\n",
              "      <th>neutral</th>\n",
              "      <th>year</th>\n",
              "      <th>month</th>\n",
              "      <th>rank_away</th>\n",
              "      <th>country_full_away</th>\n",
              "      <th>country_abrv_away</th>\n",
              "      <th>total_points_away</th>\n",
              "      <th>previous_points_away</th>\n",
              "      <th>rank_change_away</th>\n",
              "      <th>cur_year_avg_away</th>\n",
              "      <th>cur_year_avg_weighted_away</th>\n",
              "      <th>last_year_avg_away</th>\n",
              "      <th>last_year_avg_weighted_away</th>\n",
              "      <th>two_year_ago_avg_away</th>\n",
              "      <th>two_year_ago_weighted_away</th>\n",
              "      <th>three_year_ago_avg_away</th>\n",
              "      <th>three_year_ago_weighted_away</th>\n",
              "      <th>confederation</th>\n",
              "      <th>date_y</th>\n",
              "    </tr>\n",
              "  </thead>\n",
              "  <tbody>\n",
              "    <tr>\n",
              "      <th>18224</th>\n",
              "      <td>1994-01-02</td>\n",
              "      <td>Barbados</td>\n",
              "      <td>Grenada</td>\n",
              "      <td>0</td>\n",
              "      <td>0</td>\n",
              "      <td>Friendly</td>\n",
              "      <td>Bridgetown</td>\n",
              "      <td>Barbados</td>\n",
              "      <td>False</td>\n",
              "      <td>1994</td>\n",
              "      <td>4</td>\n",
              "      <td>131.0</td>\n",
              "      <td>Grenada</td>\n",
              "      <td>GRN</td>\n",
              "      <td>0.0</td>\n",
              "      <td>7.0</td>\n",
              "      <td>1.0</td>\n",
              "      <td>0.0</td>\n",
              "      <td>0.0</td>\n",
              "      <td>0.0</td>\n",
              "      <td>0.0</td>\n",
              "      <td>0.0</td>\n",
              "      <td>0.0</td>\n",
              "      <td>0.0</td>\n",
              "      <td>0.0</td>\n",
              "      <td>CONCACAF</td>\n",
              "      <td>1994-04-19</td>\n",
              "    </tr>\n",
              "    <tr>\n",
              "      <th>18286</th>\n",
              "      <td>1994-01-02</td>\n",
              "      <td>Ghana</td>\n",
              "      <td>Egypt</td>\n",
              "      <td>2</td>\n",
              "      <td>1</td>\n",
              "      <td>Friendly</td>\n",
              "      <td>Accra</td>\n",
              "      <td>Ghana</td>\n",
              "      <td>False</td>\n",
              "      <td>1994</td>\n",
              "      <td>4</td>\n",
              "      <td>24.0</td>\n",
              "      <td>Egypt</td>\n",
              "      <td>EGY</td>\n",
              "      <td>0.0</td>\n",
              "      <td>44.0</td>\n",
              "      <td>1.0</td>\n",
              "      <td>0.0</td>\n",
              "      <td>0.0</td>\n",
              "      <td>0.0</td>\n",
              "      <td>0.0</td>\n",
              "      <td>0.0</td>\n",
              "      <td>0.0</td>\n",
              "      <td>0.0</td>\n",
              "      <td>0.0</td>\n",
              "      <td>CAF</td>\n",
              "      <td>1994-04-19</td>\n",
              "    </tr>\n",
              "    <tr>\n",
              "      <th>18532</th>\n",
              "      <td>1994-01-05</td>\n",
              "      <td>Mali</td>\n",
              "      <td>Burkina Faso</td>\n",
              "      <td>1</td>\n",
              "      <td>1</td>\n",
              "      <td>Friendly</td>\n",
              "      <td>Bamako</td>\n",
              "      <td>Mali</td>\n",
              "      <td>False</td>\n",
              "      <td>1994</td>\n",
              "      <td>4</td>\n",
              "      <td>101.0</td>\n",
              "      <td>Burkina Faso</td>\n",
              "      <td>BFA</td>\n",
              "      <td>0.0</td>\n",
              "      <td>12.0</td>\n",
              "      <td>3.0</td>\n",
              "      <td>0.0</td>\n",
              "      <td>0.0</td>\n",
              "      <td>0.0</td>\n",
              "      <td>0.0</td>\n",
              "      <td>0.0</td>\n",
              "      <td>0.0</td>\n",
              "      <td>0.0</td>\n",
              "      <td>0.0</td>\n",
              "      <td>CAF</td>\n",
              "      <td>1994-04-19</td>\n",
              "    </tr>\n",
              "    <tr>\n",
              "      <th>18648</th>\n",
              "      <td>1994-01-09</td>\n",
              "      <td>Mauritania</td>\n",
              "      <td>Mali</td>\n",
              "      <td>1</td>\n",
              "      <td>3</td>\n",
              "      <td>Friendly</td>\n",
              "      <td>Nouakchott</td>\n",
              "      <td>Mauritania</td>\n",
              "      <td>False</td>\n",
              "      <td>1994</td>\n",
              "      <td>4</td>\n",
              "      <td>48.0</td>\n",
              "      <td>Mali</td>\n",
              "      <td>MLI</td>\n",
              "      <td>0.0</td>\n",
              "      <td>31.0</td>\n",
              "      <td>9.0</td>\n",
              "      <td>0.0</td>\n",
              "      <td>0.0</td>\n",
              "      <td>0.0</td>\n",
              "      <td>0.0</td>\n",
              "      <td>0.0</td>\n",
              "      <td>0.0</td>\n",
              "      <td>0.0</td>\n",
              "      <td>0.0</td>\n",
              "      <td>CAF</td>\n",
              "      <td>1994-04-19</td>\n",
              "    </tr>\n",
              "    <tr>\n",
              "      <th>18774</th>\n",
              "      <td>1994-01-11</td>\n",
              "      <td>Thailand</td>\n",
              "      <td>Nigeria</td>\n",
              "      <td>1</td>\n",
              "      <td>1</td>\n",
              "      <td>Friendly</td>\n",
              "      <td>Bangkok</td>\n",
              "      <td>Thailand</td>\n",
              "      <td>False</td>\n",
              "      <td>1994</td>\n",
              "      <td>4</td>\n",
              "      <td>5.0</td>\n",
              "      <td>Nigeria</td>\n",
              "      <td>NGA</td>\n",
              "      <td>0.0</td>\n",
              "      <td>49.0</td>\n",
              "      <td>13.0</td>\n",
              "      <td>0.0</td>\n",
              "      <td>0.0</td>\n",
              "      <td>0.0</td>\n",
              "      <td>0.0</td>\n",
              "      <td>0.0</td>\n",
              "      <td>0.0</td>\n",
              "      <td>0.0</td>\n",
              "      <td>0.0</td>\n",
              "      <td>CAF</td>\n",
              "      <td>1994-04-19</td>\n",
              "    </tr>\n",
              "  </tbody>\n",
              "</table>\n",
              "</div>"
            ],
            "text/plain": [
              "          date_x   home_team  ... confederation     date_y\n",
              "18224 1994-01-02    Barbados  ...      CONCACAF 1994-04-19\n",
              "18286 1994-01-02       Ghana  ...           CAF 1994-04-19\n",
              "18532 1994-01-05        Mali  ...           CAF 1994-04-19\n",
              "18648 1994-01-09  Mauritania  ...           CAF 1994-04-19\n",
              "18774 1994-01-11    Thailand  ...           CAF 1994-04-19\n",
              "\n",
              "[5 rows x 27 columns]"
            ]
          },
          "metadata": {
            "tags": []
          },
          "execution_count": 241
        }
      ]
    },
    {
      "cell_type": "code",
      "metadata": {
        "id": "0bqz7ak43zgA",
        "colab_type": "code",
        "colab": {}
      },
      "source": [
        "# Removing irrelevant columns from the away_merged_df by creating a list of columns to be dropped\n",
        "\n",
        "away_merged_df.drop(['date_x','home_score','away_score','tournament','city','country','neutral','date_y','confederation'], axis = 1, inplace = True)\n"
      ],
      "execution_count": null,
      "outputs": []
    },
    {
      "cell_type": "code",
      "metadata": {
        "id": "y9I8-I5bCKWw",
        "colab_type": "code",
        "colab": {
          "base_uri": "https://localhost:8080/",
          "height": 241
        },
        "outputId": "2d1741fd-52ea-4b98-dd0a-e774185749b5"
      },
      "source": [
        "# Previewing the away_combined dataset\n",
        "\n",
        "away_merged_df.head()"
      ],
      "execution_count": null,
      "outputs": [
        {
          "output_type": "execute_result",
          "data": {
            "text/html": [
              "<div>\n",
              "<style scoped>\n",
              "    .dataframe tbody tr th:only-of-type {\n",
              "        vertical-align: middle;\n",
              "    }\n",
              "\n",
              "    .dataframe tbody tr th {\n",
              "        vertical-align: top;\n",
              "    }\n",
              "\n",
              "    .dataframe thead th {\n",
              "        text-align: right;\n",
              "    }\n",
              "</style>\n",
              "<table border=\"1\" class=\"dataframe\">\n",
              "  <thead>\n",
              "    <tr style=\"text-align: right;\">\n",
              "      <th></th>\n",
              "      <th>home_team</th>\n",
              "      <th>away_team</th>\n",
              "      <th>year</th>\n",
              "      <th>month</th>\n",
              "      <th>rank_away</th>\n",
              "      <th>country_full_away</th>\n",
              "      <th>country_abrv_away</th>\n",
              "      <th>total_points_away</th>\n",
              "      <th>previous_points_away</th>\n",
              "      <th>rank_change_away</th>\n",
              "      <th>cur_year_avg_away</th>\n",
              "      <th>cur_year_avg_weighted_away</th>\n",
              "      <th>last_year_avg_away</th>\n",
              "      <th>last_year_avg_weighted_away</th>\n",
              "      <th>two_year_ago_avg_away</th>\n",
              "      <th>two_year_ago_weighted_away</th>\n",
              "      <th>three_year_ago_avg_away</th>\n",
              "      <th>three_year_ago_weighted_away</th>\n",
              "    </tr>\n",
              "  </thead>\n",
              "  <tbody>\n",
              "    <tr>\n",
              "      <th>18224</th>\n",
              "      <td>Barbados</td>\n",
              "      <td>Grenada</td>\n",
              "      <td>1994</td>\n",
              "      <td>4</td>\n",
              "      <td>131.0</td>\n",
              "      <td>Grenada</td>\n",
              "      <td>GRN</td>\n",
              "      <td>0.0</td>\n",
              "      <td>7.0</td>\n",
              "      <td>1.0</td>\n",
              "      <td>0.0</td>\n",
              "      <td>0.0</td>\n",
              "      <td>0.0</td>\n",
              "      <td>0.0</td>\n",
              "      <td>0.0</td>\n",
              "      <td>0.0</td>\n",
              "      <td>0.0</td>\n",
              "      <td>0.0</td>\n",
              "    </tr>\n",
              "    <tr>\n",
              "      <th>18286</th>\n",
              "      <td>Ghana</td>\n",
              "      <td>Egypt</td>\n",
              "      <td>1994</td>\n",
              "      <td>4</td>\n",
              "      <td>24.0</td>\n",
              "      <td>Egypt</td>\n",
              "      <td>EGY</td>\n",
              "      <td>0.0</td>\n",
              "      <td>44.0</td>\n",
              "      <td>1.0</td>\n",
              "      <td>0.0</td>\n",
              "      <td>0.0</td>\n",
              "      <td>0.0</td>\n",
              "      <td>0.0</td>\n",
              "      <td>0.0</td>\n",
              "      <td>0.0</td>\n",
              "      <td>0.0</td>\n",
              "      <td>0.0</td>\n",
              "    </tr>\n",
              "    <tr>\n",
              "      <th>18532</th>\n",
              "      <td>Mali</td>\n",
              "      <td>Burkina Faso</td>\n",
              "      <td>1994</td>\n",
              "      <td>4</td>\n",
              "      <td>101.0</td>\n",
              "      <td>Burkina Faso</td>\n",
              "      <td>BFA</td>\n",
              "      <td>0.0</td>\n",
              "      <td>12.0</td>\n",
              "      <td>3.0</td>\n",
              "      <td>0.0</td>\n",
              "      <td>0.0</td>\n",
              "      <td>0.0</td>\n",
              "      <td>0.0</td>\n",
              "      <td>0.0</td>\n",
              "      <td>0.0</td>\n",
              "      <td>0.0</td>\n",
              "      <td>0.0</td>\n",
              "    </tr>\n",
              "    <tr>\n",
              "      <th>18648</th>\n",
              "      <td>Mauritania</td>\n",
              "      <td>Mali</td>\n",
              "      <td>1994</td>\n",
              "      <td>4</td>\n",
              "      <td>48.0</td>\n",
              "      <td>Mali</td>\n",
              "      <td>MLI</td>\n",
              "      <td>0.0</td>\n",
              "      <td>31.0</td>\n",
              "      <td>9.0</td>\n",
              "      <td>0.0</td>\n",
              "      <td>0.0</td>\n",
              "      <td>0.0</td>\n",
              "      <td>0.0</td>\n",
              "      <td>0.0</td>\n",
              "      <td>0.0</td>\n",
              "      <td>0.0</td>\n",
              "      <td>0.0</td>\n",
              "    </tr>\n",
              "    <tr>\n",
              "      <th>18774</th>\n",
              "      <td>Thailand</td>\n",
              "      <td>Nigeria</td>\n",
              "      <td>1994</td>\n",
              "      <td>4</td>\n",
              "      <td>5.0</td>\n",
              "      <td>Nigeria</td>\n",
              "      <td>NGA</td>\n",
              "      <td>0.0</td>\n",
              "      <td>49.0</td>\n",
              "      <td>13.0</td>\n",
              "      <td>0.0</td>\n",
              "      <td>0.0</td>\n",
              "      <td>0.0</td>\n",
              "      <td>0.0</td>\n",
              "      <td>0.0</td>\n",
              "      <td>0.0</td>\n",
              "      <td>0.0</td>\n",
              "      <td>0.0</td>\n",
              "    </tr>\n",
              "  </tbody>\n",
              "</table>\n",
              "</div>"
            ],
            "text/plain": [
              "        home_team  ... three_year_ago_weighted_away\n",
              "18224    Barbados  ...                          0.0\n",
              "18286       Ghana  ...                          0.0\n",
              "18532        Mali  ...                          0.0\n",
              "18648  Mauritania  ...                          0.0\n",
              "18774    Thailand  ...                          0.0\n",
              "\n",
              "[5 rows x 18 columns]"
            ]
          },
          "metadata": {
            "tags": []
          },
          "execution_count": 243
        }
      ]
    },
    {
      "cell_type": "code",
      "metadata": {
        "id": "cmCF9tCl0W9t",
        "colab_type": "code",
        "colab": {}
      },
      "source": [
        "# Merging the home_combined dataframe to the away_combined dataframe\n",
        "# The two dataframes have been merged on year, month, home_team and away_team columns\n",
        "\n",
        "complete_merged_df = pd.merge(home_merged_df, away_merged_df, how = 'left' , left_on =['year', 'month', 'home_team', 'away_team'],\\\n",
        "                    right_on = ['year', 'month', 'home_team', 'away_team'])"
      ],
      "execution_count": null,
      "outputs": []
    },
    {
      "cell_type": "code",
      "metadata": {
        "id": "ZqDEIYkH_AsA",
        "colab_type": "code",
        "colab": {}
      },
      "source": [
        "# Previewing the first five rows of the merged dataframe\n",
        "complete_merged_df.head()"
      ],
      "execution_count": null,
      "outputs": []
    },
    {
      "cell_type": "code",
      "metadata": {
        "id": "5yDS1Zjv0W4X",
        "colab_type": "code",
        "colab": {}
      },
      "source": [
        "# Removing irrelevant columns from the final dataframe\n",
        "\n",
        "complete_merged_df.drop(['country_full_home', 'country_abrv_home', 'date_y', 'country_full_away',\t'country_abrv_away'], axis = 1, inplace = True)"
      ],
      "execution_count": null,
      "outputs": []
    },
    {
      "cell_type": "code",
      "metadata": {
        "id": "VQengEFZ0W1a",
        "colab_type": "code",
        "colab": {
          "base_uri": "https://localhost:8080/",
          "height": 646
        },
        "outputId": "43e6eca3-e47f-4063-b0b9-f4ea86c5516f"
      },
      "source": [
        "# Checking for missing values\n",
        "\n",
        "complete_merged_df.isnull().sum()"
      ],
      "execution_count": null,
      "outputs": [
        {
          "output_type": "execute_result",
          "data": {
            "text/plain": [
              "date_x                             0\n",
              "home_team                          0\n",
              "away_team                          0\n",
              "home_score                         0\n",
              "away_score                         0\n",
              "tournament                         0\n",
              "city                               0\n",
              "country                            0\n",
              "neutral                            0\n",
              "year                               0\n",
              "month                              0\n",
              "rank_home                          0\n",
              "total_points_home                  0\n",
              "previous_points_home               0\n",
              "rank_change_home                   0\n",
              "cur_year_avg_home                  0\n",
              "cur_year_avg_weighted_home         0\n",
              "last_year_avg_home                 0\n",
              "last_year_avg_weighted_home        0\n",
              "two_year_ago_avg_home              0\n",
              "two_year_ago_weighted_home         0\n",
              "three_year_ago_avg_home            0\n",
              "three_year_ago_weighted_home       0\n",
              "confederation                      0\n",
              "rank_away                       1811\n",
              "total_points_away               1811\n",
              "previous_points_away            1811\n",
              "rank_change_away                1811\n",
              "cur_year_avg_away               1811\n",
              "cur_year_avg_weighted_away      1811\n",
              "last_year_avg_away              1811\n",
              "last_year_avg_weighted_away     1811\n",
              "two_year_ago_avg_away           1811\n",
              "two_year_ago_weighted_away      1811\n",
              "three_year_ago_avg_away         1811\n",
              "three_year_ago_weighted_away    1811\n",
              "dtype: int64"
            ]
          },
          "metadata": {
            "tags": []
          },
          "execution_count": 246
        }
      ]
    },
    {
      "cell_type": "code",
      "metadata": {
        "id": "lzmS-BkM-oZL",
        "colab_type": "code",
        "colab": {}
      },
      "source": [
        "# Dropping missing values\n",
        "\n",
        "complete_merged_df.dropna(inplace=True)"
      ],
      "execution_count": null,
      "outputs": []
    },
    {
      "cell_type": "code",
      "metadata": {
        "id": "86Uu2hdi-oRW",
        "colab_type": "code",
        "colab": {
          "base_uri": "https://localhost:8080/",
          "height": 309
        },
        "outputId": "90bc05c5-b88f-4be0-e58b-7fe50bb71d99"
      },
      "source": [
        "# Previewing the complete_merged_df dataframe\n",
        "\n",
        "complete_merged_df.head()"
      ],
      "execution_count": null,
      "outputs": [
        {
          "output_type": "execute_result",
          "data": {
            "text/html": [
              "<div>\n",
              "<style scoped>\n",
              "    .dataframe tbody tr th:only-of-type {\n",
              "        vertical-align: middle;\n",
              "    }\n",
              "\n",
              "    .dataframe tbody tr th {\n",
              "        vertical-align: top;\n",
              "    }\n",
              "\n",
              "    .dataframe thead th {\n",
              "        text-align: right;\n",
              "    }\n",
              "</style>\n",
              "<table border=\"1\" class=\"dataframe\">\n",
              "  <thead>\n",
              "    <tr style=\"text-align: right;\">\n",
              "      <th></th>\n",
              "      <th>date_x</th>\n",
              "      <th>home_team</th>\n",
              "      <th>away_team</th>\n",
              "      <th>home_score</th>\n",
              "      <th>away_score</th>\n",
              "      <th>tournament</th>\n",
              "      <th>city</th>\n",
              "      <th>country</th>\n",
              "      <th>neutral</th>\n",
              "      <th>year</th>\n",
              "      <th>month</th>\n",
              "      <th>rank_home</th>\n",
              "      <th>total_points_home</th>\n",
              "      <th>previous_points_home</th>\n",
              "      <th>rank_change_home</th>\n",
              "      <th>cur_year_avg_home</th>\n",
              "      <th>cur_year_avg_weighted_home</th>\n",
              "      <th>last_year_avg_home</th>\n",
              "      <th>last_year_avg_weighted_home</th>\n",
              "      <th>two_year_ago_avg_home</th>\n",
              "      <th>two_year_ago_weighted_home</th>\n",
              "      <th>three_year_ago_avg_home</th>\n",
              "      <th>three_year_ago_weighted_home</th>\n",
              "      <th>confederation</th>\n",
              "      <th>rank_away</th>\n",
              "      <th>total_points_away</th>\n",
              "      <th>previous_points_away</th>\n",
              "      <th>rank_change_away</th>\n",
              "      <th>cur_year_avg_away</th>\n",
              "      <th>cur_year_avg_weighted_away</th>\n",
              "      <th>last_year_avg_away</th>\n",
              "      <th>last_year_avg_weighted_away</th>\n",
              "      <th>two_year_ago_avg_away</th>\n",
              "      <th>two_year_ago_weighted_away</th>\n",
              "      <th>three_year_ago_avg_away</th>\n",
              "      <th>three_year_ago_weighted_away</th>\n",
              "    </tr>\n",
              "  </thead>\n",
              "  <tbody>\n",
              "    <tr>\n",
              "      <th>0</th>\n",
              "      <td>1994-01-02</td>\n",
              "      <td>Barbados</td>\n",
              "      <td>Grenada</td>\n",
              "      <td>0</td>\n",
              "      <td>0</td>\n",
              "      <td>Friendly</td>\n",
              "      <td>Bridgetown</td>\n",
              "      <td>Barbados</td>\n",
              "      <td>False</td>\n",
              "      <td>1994</td>\n",
              "      <td>4</td>\n",
              "      <td>99.0</td>\n",
              "      <td>0.0</td>\n",
              "      <td>13.0</td>\n",
              "      <td>2.0</td>\n",
              "      <td>0.0</td>\n",
              "      <td>0.0</td>\n",
              "      <td>0.0</td>\n",
              "      <td>0.0</td>\n",
              "      <td>0.0</td>\n",
              "      <td>0.0</td>\n",
              "      <td>0.0</td>\n",
              "      <td>0.0</td>\n",
              "      <td>CONCACAF</td>\n",
              "      <td>131.0</td>\n",
              "      <td>0.0</td>\n",
              "      <td>7.0</td>\n",
              "      <td>1.0</td>\n",
              "      <td>0.0</td>\n",
              "      <td>0.0</td>\n",
              "      <td>0.0</td>\n",
              "      <td>0.0</td>\n",
              "      <td>0.0</td>\n",
              "      <td>0.0</td>\n",
              "      <td>0.0</td>\n",
              "      <td>0.0</td>\n",
              "    </tr>\n",
              "    <tr>\n",
              "      <th>1</th>\n",
              "      <td>1994-01-02</td>\n",
              "      <td>Barbados</td>\n",
              "      <td>Grenada</td>\n",
              "      <td>0</td>\n",
              "      <td>0</td>\n",
              "      <td>Friendly</td>\n",
              "      <td>Bridgetown</td>\n",
              "      <td>Barbados</td>\n",
              "      <td>False</td>\n",
              "      <td>1994</td>\n",
              "      <td>4</td>\n",
              "      <td>99.0</td>\n",
              "      <td>0.0</td>\n",
              "      <td>13.0</td>\n",
              "      <td>2.0</td>\n",
              "      <td>0.0</td>\n",
              "      <td>0.0</td>\n",
              "      <td>0.0</td>\n",
              "      <td>0.0</td>\n",
              "      <td>0.0</td>\n",
              "      <td>0.0</td>\n",
              "      <td>0.0</td>\n",
              "      <td>0.0</td>\n",
              "      <td>CONCACAF</td>\n",
              "      <td>131.0</td>\n",
              "      <td>0.0</td>\n",
              "      <td>7.0</td>\n",
              "      <td>1.0</td>\n",
              "      <td>0.0</td>\n",
              "      <td>0.0</td>\n",
              "      <td>0.0</td>\n",
              "      <td>0.0</td>\n",
              "      <td>0.0</td>\n",
              "      <td>0.0</td>\n",
              "      <td>0.0</td>\n",
              "      <td>0.0</td>\n",
              "    </tr>\n",
              "    <tr>\n",
              "      <th>2</th>\n",
              "      <td>1994-01-02</td>\n",
              "      <td>Ghana</td>\n",
              "      <td>Egypt</td>\n",
              "      <td>2</td>\n",
              "      <td>1</td>\n",
              "      <td>Friendly</td>\n",
              "      <td>Accra</td>\n",
              "      <td>Ghana</td>\n",
              "      <td>False</td>\n",
              "      <td>1994</td>\n",
              "      <td>4</td>\n",
              "      <td>29.0</td>\n",
              "      <td>0.0</td>\n",
              "      <td>41.0</td>\n",
              "      <td>2.0</td>\n",
              "      <td>0.0</td>\n",
              "      <td>0.0</td>\n",
              "      <td>0.0</td>\n",
              "      <td>0.0</td>\n",
              "      <td>0.0</td>\n",
              "      <td>0.0</td>\n",
              "      <td>0.0</td>\n",
              "      <td>0.0</td>\n",
              "      <td>CAF</td>\n",
              "      <td>24.0</td>\n",
              "      <td>0.0</td>\n",
              "      <td>44.0</td>\n",
              "      <td>1.0</td>\n",
              "      <td>0.0</td>\n",
              "      <td>0.0</td>\n",
              "      <td>0.0</td>\n",
              "      <td>0.0</td>\n",
              "      <td>0.0</td>\n",
              "      <td>0.0</td>\n",
              "      <td>0.0</td>\n",
              "      <td>0.0</td>\n",
              "    </tr>\n",
              "    <tr>\n",
              "      <th>3</th>\n",
              "      <td>1994-01-05</td>\n",
              "      <td>Mali</td>\n",
              "      <td>Burkina Faso</td>\n",
              "      <td>1</td>\n",
              "      <td>1</td>\n",
              "      <td>Friendly</td>\n",
              "      <td>Bamako</td>\n",
              "      <td>Mali</td>\n",
              "      <td>False</td>\n",
              "      <td>1994</td>\n",
              "      <td>4</td>\n",
              "      <td>48.0</td>\n",
              "      <td>0.0</td>\n",
              "      <td>31.0</td>\n",
              "      <td>9.0</td>\n",
              "      <td>0.0</td>\n",
              "      <td>0.0</td>\n",
              "      <td>0.0</td>\n",
              "      <td>0.0</td>\n",
              "      <td>0.0</td>\n",
              "      <td>0.0</td>\n",
              "      <td>0.0</td>\n",
              "      <td>0.0</td>\n",
              "      <td>CAF</td>\n",
              "      <td>101.0</td>\n",
              "      <td>0.0</td>\n",
              "      <td>12.0</td>\n",
              "      <td>3.0</td>\n",
              "      <td>0.0</td>\n",
              "      <td>0.0</td>\n",
              "      <td>0.0</td>\n",
              "      <td>0.0</td>\n",
              "      <td>0.0</td>\n",
              "      <td>0.0</td>\n",
              "      <td>0.0</td>\n",
              "      <td>0.0</td>\n",
              "    </tr>\n",
              "    <tr>\n",
              "      <th>4</th>\n",
              "      <td>1994-01-09</td>\n",
              "      <td>Mauritania</td>\n",
              "      <td>Mali</td>\n",
              "      <td>1</td>\n",
              "      <td>3</td>\n",
              "      <td>Friendly</td>\n",
              "      <td>Nouakchott</td>\n",
              "      <td>Mauritania</td>\n",
              "      <td>False</td>\n",
              "      <td>1994</td>\n",
              "      <td>4</td>\n",
              "      <td>147.0</td>\n",
              "      <td>0.0</td>\n",
              "      <td>3.0</td>\n",
              "      <td>-1.0</td>\n",
              "      <td>0.0</td>\n",
              "      <td>0.0</td>\n",
              "      <td>0.0</td>\n",
              "      <td>0.0</td>\n",
              "      <td>0.0</td>\n",
              "      <td>0.0</td>\n",
              "      <td>0.0</td>\n",
              "      <td>0.0</td>\n",
              "      <td>CAF</td>\n",
              "      <td>48.0</td>\n",
              "      <td>0.0</td>\n",
              "      <td>31.0</td>\n",
              "      <td>9.0</td>\n",
              "      <td>0.0</td>\n",
              "      <td>0.0</td>\n",
              "      <td>0.0</td>\n",
              "      <td>0.0</td>\n",
              "      <td>0.0</td>\n",
              "      <td>0.0</td>\n",
              "      <td>0.0</td>\n",
              "      <td>0.0</td>\n",
              "    </tr>\n",
              "  </tbody>\n",
              "</table>\n",
              "</div>"
            ],
            "text/plain": [
              "      date_x   home_team  ... three_year_ago_avg_away  three_year_ago_weighted_away\n",
              "0 1994-01-02    Barbados  ...                     0.0                           0.0\n",
              "1 1994-01-02    Barbados  ...                     0.0                           0.0\n",
              "2 1994-01-02       Ghana  ...                     0.0                           0.0\n",
              "3 1994-01-05        Mali  ...                     0.0                           0.0\n",
              "4 1994-01-09  Mauritania  ...                     0.0                           0.0\n",
              "\n",
              "[5 rows x 36 columns]"
            ]
          },
          "metadata": {
            "tags": []
          },
          "execution_count": 249
        }
      ]
    },
    {
      "cell_type": "code",
      "metadata": {
        "id": "6sEwvUczCMeQ",
        "colab_type": "code",
        "colab": {
          "base_uri": "https://localhost:8080/",
          "height": 646
        },
        "outputId": "1e8709b0-19cb-4657-cb9b-d42c7dbccff3"
      },
      "source": [
        "# Checking the datatypes of the complete_merged_df \n",
        "\n",
        "complete_merged_df.dtypes"
      ],
      "execution_count": null,
      "outputs": [
        {
          "output_type": "execute_result",
          "data": {
            "text/plain": [
              "date_x                          datetime64[ns]\n",
              "home_team                               object\n",
              "away_team                               object\n",
              "home_score                               int64\n",
              "away_score                               int64\n",
              "tournament                              object\n",
              "city                                    object\n",
              "country                                 object\n",
              "neutral                                   bool\n",
              "year                                     int64\n",
              "month                                    int64\n",
              "rank_home                              float64\n",
              "total_points_home                      float64\n",
              "previous_points_home                   float64\n",
              "rank_change_home                       float64\n",
              "cur_year_avg_home                      float64\n",
              "cur_year_avg_weighted_home             float64\n",
              "last_year_avg_home                     float64\n",
              "last_year_avg_weighted_home            float64\n",
              "two_year_ago_avg_home                  float64\n",
              "two_year_ago_weighted_home             float64\n",
              "three_year_ago_avg_home                float64\n",
              "three_year_ago_weighted_home           float64\n",
              "confederation                           object\n",
              "rank_away                              float64\n",
              "total_points_away                      float64\n",
              "previous_points_away                   float64\n",
              "rank_change_away                       float64\n",
              "cur_year_avg_away                      float64\n",
              "cur_year_avg_weighted_away             float64\n",
              "last_year_avg_away                     float64\n",
              "last_year_avg_weighted_away            float64\n",
              "two_year_ago_avg_away                  float64\n",
              "two_year_ago_weighted_away             float64\n",
              "three_year_ago_avg_away                float64\n",
              "three_year_ago_weighted_away           float64\n",
              "dtype: object"
            ]
          },
          "metadata": {
            "tags": []
          },
          "execution_count": 250
        }
      ]
    },
    {
      "cell_type": "code",
      "metadata": {
        "id": "m-Lkz2v_CckO",
        "colab_type": "code",
        "colab": {}
      },
      "source": [
        "# Changing the complete_merged_df datatypes to their appriopriate datatype\n",
        "\n",
        "col = ['home_team', 'away_team', 'tournament', 'city', 'country', 'neutral', 'year', 'month']\n",
        "\n",
        "complete_merged_df[col] = complete_merged_df[col].astype('category')"
      ],
      "execution_count": null,
      "outputs": []
    },
    {
      "cell_type": "code",
      "metadata": {
        "id": "yIQ2fEeYIUxD",
        "colab_type": "code",
        "colab": {
          "base_uri": "https://localhost:8080/",
          "height": 646
        },
        "outputId": "f966dd9b-9d3e-4e59-f004-42fce60969d2"
      },
      "source": [
        "complete_merged_df.dtypes"
      ],
      "execution_count": null,
      "outputs": [
        {
          "output_type": "execute_result",
          "data": {
            "text/plain": [
              "date_x                          datetime64[ns]\n",
              "home_team                             category\n",
              "away_team                             category\n",
              "home_score                               int64\n",
              "away_score                               int64\n",
              "tournament                            category\n",
              "city                                  category\n",
              "country                               category\n",
              "neutral                               category\n",
              "year                                  category\n",
              "month                                 category\n",
              "rank_home                              float64\n",
              "total_points_home                      float64\n",
              "previous_points_home                   float64\n",
              "rank_change_home                       float64\n",
              "cur_year_avg_home                      float64\n",
              "cur_year_avg_weighted_home             float64\n",
              "last_year_avg_home                     float64\n",
              "last_year_avg_weighted_home            float64\n",
              "two_year_ago_avg_home                  float64\n",
              "two_year_ago_weighted_home             float64\n",
              "three_year_ago_avg_home                float64\n",
              "three_year_ago_weighted_home           float64\n",
              "confederation                           object\n",
              "rank_away                              float64\n",
              "total_points_away                      float64\n",
              "previous_points_away                   float64\n",
              "rank_change_away                       float64\n",
              "cur_year_avg_away                      float64\n",
              "cur_year_avg_weighted_away             float64\n",
              "last_year_avg_away                     float64\n",
              "last_year_avg_weighted_away            float64\n",
              "two_year_ago_avg_away                  float64\n",
              "two_year_ago_weighted_away             float64\n",
              "three_year_ago_avg_away                float64\n",
              "three_year_ago_weighted_away           float64\n",
              "dtype: object"
            ]
          },
          "metadata": {
            "tags": []
          },
          "execution_count": 252
        }
      ]
    },
    {
      "cell_type": "code",
      "metadata": {
        "id": "xRHuKSpPB8uR",
        "colab_type": "code",
        "colab": {}
      },
      "source": [
        "# Creating a new column showing the final result based on the home team\n",
        "# The column has been created by subtracting the away score from the home score\n",
        "\n",
        "complete_merged_df['score'] = complete_merged_df.home_score - complete_merged_df.away_score"
      ],
      "execution_count": null,
      "outputs": []
    },
    {
      "cell_type": "code",
      "metadata": {
        "id": "BC195Ib0EjSo",
        "colab_type": "code",
        "colab": {
          "base_uri": "https://localhost:8080/",
          "height": 119
        },
        "outputId": "ea895a8b-0849-4e15-b8d1-8e3b7b9e0869"
      },
      "source": [
        "# Previewing the score column\n",
        "#\n",
        "complete_merged_df.score.head()"
      ],
      "execution_count": null,
      "outputs": [
        {
          "output_type": "execute_result",
          "data": {
            "text/plain": [
              "0    0\n",
              "1    0\n",
              "2    1\n",
              "3    0\n",
              "4   -2\n",
              "Name: score, dtype: int64"
            ]
          },
          "metadata": {
            "tags": []
          },
          "execution_count": 254
        }
      ]
    },
    {
      "cell_type": "code",
      "metadata": {
        "id": "9530yoTD_QVN",
        "colab_type": "code",
        "colab": {
          "base_uri": "https://localhost:8080/",
          "height": 309
        },
        "outputId": "4295767e-99ab-4059-91c8-475367a5342d"
      },
      "source": [
        "# Creating a function to generate the result to be used so as to create a win, draw or lose column based on the home team\n",
        "\n",
        "def result(goals):\n",
        "  if goals > 0:\n",
        "    return 'Win'\n",
        "  elif goals < 0:\n",
        "    return 'Lose'\n",
        "  else:\n",
        "    return 'Draw'\n",
        "# Applying the result function to the complete_merged_df\n",
        "\n",
        "complete_merged_df['result'] = complete_merged_df.score.apply(lambda x: result(x))\n",
        "\n",
        "# Dropping the score column\n",
        "\n",
        "complete_merged_df.drop('score', axis = 1, inplace = True)\n",
        "\n",
        "# Creating a column of total goals scored\n",
        "\n",
        "complete_merged_df['total_goals'] = complete_merged_df.home_score + complete_merged_df.away_score\n",
        "\n",
        "# Previewing the complete_merged_df together with the result column\n",
        "\n",
        "complete_merged_df.head()"
      ],
      "execution_count": null,
      "outputs": [
        {
          "output_type": "execute_result",
          "data": {
            "text/html": [
              "<div>\n",
              "<style scoped>\n",
              "    .dataframe tbody tr th:only-of-type {\n",
              "        vertical-align: middle;\n",
              "    }\n",
              "\n",
              "    .dataframe tbody tr th {\n",
              "        vertical-align: top;\n",
              "    }\n",
              "\n",
              "    .dataframe thead th {\n",
              "        text-align: right;\n",
              "    }\n",
              "</style>\n",
              "<table border=\"1\" class=\"dataframe\">\n",
              "  <thead>\n",
              "    <tr style=\"text-align: right;\">\n",
              "      <th></th>\n",
              "      <th>date_x</th>\n",
              "      <th>home_team</th>\n",
              "      <th>away_team</th>\n",
              "      <th>home_score</th>\n",
              "      <th>away_score</th>\n",
              "      <th>tournament</th>\n",
              "      <th>city</th>\n",
              "      <th>country</th>\n",
              "      <th>neutral</th>\n",
              "      <th>year</th>\n",
              "      <th>month</th>\n",
              "      <th>rank_home</th>\n",
              "      <th>total_points_home</th>\n",
              "      <th>previous_points_home</th>\n",
              "      <th>rank_change_home</th>\n",
              "      <th>cur_year_avg_home</th>\n",
              "      <th>cur_year_avg_weighted_home</th>\n",
              "      <th>last_year_avg_home</th>\n",
              "      <th>last_year_avg_weighted_home</th>\n",
              "      <th>two_year_ago_avg_home</th>\n",
              "      <th>two_year_ago_weighted_home</th>\n",
              "      <th>three_year_ago_avg_home</th>\n",
              "      <th>three_year_ago_weighted_home</th>\n",
              "      <th>confederation</th>\n",
              "      <th>rank_away</th>\n",
              "      <th>total_points_away</th>\n",
              "      <th>previous_points_away</th>\n",
              "      <th>rank_change_away</th>\n",
              "      <th>cur_year_avg_away</th>\n",
              "      <th>cur_year_avg_weighted_away</th>\n",
              "      <th>last_year_avg_away</th>\n",
              "      <th>last_year_avg_weighted_away</th>\n",
              "      <th>two_year_ago_avg_away</th>\n",
              "      <th>two_year_ago_weighted_away</th>\n",
              "      <th>three_year_ago_avg_away</th>\n",
              "      <th>three_year_ago_weighted_away</th>\n",
              "      <th>result</th>\n",
              "      <th>total_goals</th>\n",
              "    </tr>\n",
              "  </thead>\n",
              "  <tbody>\n",
              "    <tr>\n",
              "      <th>0</th>\n",
              "      <td>1994-01-02</td>\n",
              "      <td>Barbados</td>\n",
              "      <td>Grenada</td>\n",
              "      <td>0</td>\n",
              "      <td>0</td>\n",
              "      <td>Friendly</td>\n",
              "      <td>Bridgetown</td>\n",
              "      <td>Barbados</td>\n",
              "      <td>False</td>\n",
              "      <td>1994</td>\n",
              "      <td>4</td>\n",
              "      <td>99.0</td>\n",
              "      <td>0.0</td>\n",
              "      <td>13.0</td>\n",
              "      <td>2.0</td>\n",
              "      <td>0.0</td>\n",
              "      <td>0.0</td>\n",
              "      <td>0.0</td>\n",
              "      <td>0.0</td>\n",
              "      <td>0.0</td>\n",
              "      <td>0.0</td>\n",
              "      <td>0.0</td>\n",
              "      <td>0.0</td>\n",
              "      <td>CONCACAF</td>\n",
              "      <td>131.0</td>\n",
              "      <td>0.0</td>\n",
              "      <td>7.0</td>\n",
              "      <td>1.0</td>\n",
              "      <td>0.0</td>\n",
              "      <td>0.0</td>\n",
              "      <td>0.0</td>\n",
              "      <td>0.0</td>\n",
              "      <td>0.0</td>\n",
              "      <td>0.0</td>\n",
              "      <td>0.0</td>\n",
              "      <td>0.0</td>\n",
              "      <td>Draw</td>\n",
              "      <td>0</td>\n",
              "    </tr>\n",
              "    <tr>\n",
              "      <th>1</th>\n",
              "      <td>1994-01-02</td>\n",
              "      <td>Barbados</td>\n",
              "      <td>Grenada</td>\n",
              "      <td>0</td>\n",
              "      <td>0</td>\n",
              "      <td>Friendly</td>\n",
              "      <td>Bridgetown</td>\n",
              "      <td>Barbados</td>\n",
              "      <td>False</td>\n",
              "      <td>1994</td>\n",
              "      <td>4</td>\n",
              "      <td>99.0</td>\n",
              "      <td>0.0</td>\n",
              "      <td>13.0</td>\n",
              "      <td>2.0</td>\n",
              "      <td>0.0</td>\n",
              "      <td>0.0</td>\n",
              "      <td>0.0</td>\n",
              "      <td>0.0</td>\n",
              "      <td>0.0</td>\n",
              "      <td>0.0</td>\n",
              "      <td>0.0</td>\n",
              "      <td>0.0</td>\n",
              "      <td>CONCACAF</td>\n",
              "      <td>131.0</td>\n",
              "      <td>0.0</td>\n",
              "      <td>7.0</td>\n",
              "      <td>1.0</td>\n",
              "      <td>0.0</td>\n",
              "      <td>0.0</td>\n",
              "      <td>0.0</td>\n",
              "      <td>0.0</td>\n",
              "      <td>0.0</td>\n",
              "      <td>0.0</td>\n",
              "      <td>0.0</td>\n",
              "      <td>0.0</td>\n",
              "      <td>Draw</td>\n",
              "      <td>0</td>\n",
              "    </tr>\n",
              "    <tr>\n",
              "      <th>2</th>\n",
              "      <td>1994-01-02</td>\n",
              "      <td>Ghana</td>\n",
              "      <td>Egypt</td>\n",
              "      <td>2</td>\n",
              "      <td>1</td>\n",
              "      <td>Friendly</td>\n",
              "      <td>Accra</td>\n",
              "      <td>Ghana</td>\n",
              "      <td>False</td>\n",
              "      <td>1994</td>\n",
              "      <td>4</td>\n",
              "      <td>29.0</td>\n",
              "      <td>0.0</td>\n",
              "      <td>41.0</td>\n",
              "      <td>2.0</td>\n",
              "      <td>0.0</td>\n",
              "      <td>0.0</td>\n",
              "      <td>0.0</td>\n",
              "      <td>0.0</td>\n",
              "      <td>0.0</td>\n",
              "      <td>0.0</td>\n",
              "      <td>0.0</td>\n",
              "      <td>0.0</td>\n",
              "      <td>CAF</td>\n",
              "      <td>24.0</td>\n",
              "      <td>0.0</td>\n",
              "      <td>44.0</td>\n",
              "      <td>1.0</td>\n",
              "      <td>0.0</td>\n",
              "      <td>0.0</td>\n",
              "      <td>0.0</td>\n",
              "      <td>0.0</td>\n",
              "      <td>0.0</td>\n",
              "      <td>0.0</td>\n",
              "      <td>0.0</td>\n",
              "      <td>0.0</td>\n",
              "      <td>Win</td>\n",
              "      <td>3</td>\n",
              "    </tr>\n",
              "    <tr>\n",
              "      <th>3</th>\n",
              "      <td>1994-01-05</td>\n",
              "      <td>Mali</td>\n",
              "      <td>Burkina Faso</td>\n",
              "      <td>1</td>\n",
              "      <td>1</td>\n",
              "      <td>Friendly</td>\n",
              "      <td>Bamako</td>\n",
              "      <td>Mali</td>\n",
              "      <td>False</td>\n",
              "      <td>1994</td>\n",
              "      <td>4</td>\n",
              "      <td>48.0</td>\n",
              "      <td>0.0</td>\n",
              "      <td>31.0</td>\n",
              "      <td>9.0</td>\n",
              "      <td>0.0</td>\n",
              "      <td>0.0</td>\n",
              "      <td>0.0</td>\n",
              "      <td>0.0</td>\n",
              "      <td>0.0</td>\n",
              "      <td>0.0</td>\n",
              "      <td>0.0</td>\n",
              "      <td>0.0</td>\n",
              "      <td>CAF</td>\n",
              "      <td>101.0</td>\n",
              "      <td>0.0</td>\n",
              "      <td>12.0</td>\n",
              "      <td>3.0</td>\n",
              "      <td>0.0</td>\n",
              "      <td>0.0</td>\n",
              "      <td>0.0</td>\n",
              "      <td>0.0</td>\n",
              "      <td>0.0</td>\n",
              "      <td>0.0</td>\n",
              "      <td>0.0</td>\n",
              "      <td>0.0</td>\n",
              "      <td>Draw</td>\n",
              "      <td>2</td>\n",
              "    </tr>\n",
              "    <tr>\n",
              "      <th>4</th>\n",
              "      <td>1994-01-09</td>\n",
              "      <td>Mauritania</td>\n",
              "      <td>Mali</td>\n",
              "      <td>1</td>\n",
              "      <td>3</td>\n",
              "      <td>Friendly</td>\n",
              "      <td>Nouakchott</td>\n",
              "      <td>Mauritania</td>\n",
              "      <td>False</td>\n",
              "      <td>1994</td>\n",
              "      <td>4</td>\n",
              "      <td>147.0</td>\n",
              "      <td>0.0</td>\n",
              "      <td>3.0</td>\n",
              "      <td>-1.0</td>\n",
              "      <td>0.0</td>\n",
              "      <td>0.0</td>\n",
              "      <td>0.0</td>\n",
              "      <td>0.0</td>\n",
              "      <td>0.0</td>\n",
              "      <td>0.0</td>\n",
              "      <td>0.0</td>\n",
              "      <td>0.0</td>\n",
              "      <td>CAF</td>\n",
              "      <td>48.0</td>\n",
              "      <td>0.0</td>\n",
              "      <td>31.0</td>\n",
              "      <td>9.0</td>\n",
              "      <td>0.0</td>\n",
              "      <td>0.0</td>\n",
              "      <td>0.0</td>\n",
              "      <td>0.0</td>\n",
              "      <td>0.0</td>\n",
              "      <td>0.0</td>\n",
              "      <td>0.0</td>\n",
              "      <td>0.0</td>\n",
              "      <td>Lose</td>\n",
              "      <td>4</td>\n",
              "    </tr>\n",
              "  </tbody>\n",
              "</table>\n",
              "</div>"
            ],
            "text/plain": [
              "      date_x   home_team  ... result  total_goals\n",
              "0 1994-01-02    Barbados  ...   Draw            0\n",
              "1 1994-01-02    Barbados  ...   Draw            0\n",
              "2 1994-01-02       Ghana  ...    Win            3\n",
              "3 1994-01-05        Mali  ...   Draw            2\n",
              "4 1994-01-09  Mauritania  ...   Lose            4\n",
              "\n",
              "[5 rows x 38 columns]"
            ]
          },
          "metadata": {
            "tags": []
          },
          "execution_count": 255
        }
      ]
    },
    {
      "cell_type": "markdown",
      "metadata": {
        "id": "ZXqaSSGTHyHo",
        "colab_type": "text"
      },
      "source": [
        "## Exploratory data analysis"
      ]
    },
    {
      "cell_type": "markdown",
      "metadata": {
        "id": "3ZLCbaQQlRiJ",
        "colab_type": "text"
      },
      "source": [
        "### Checking for outliers"
      ]
    },
    {
      "cell_type": "markdown",
      "metadata": {
        "id": "Mv_tI9zAH_b1",
        "colab_type": "text"
      },
      "source": [
        "#### Scatterplots"
      ]
    },
    {
      "cell_type": "code",
      "metadata": {
        "id": "VabvOaOPIDn8",
        "colab_type": "code",
        "colab": {
          "base_uri": "https://localhost:8080/",
          "height": 615
        },
        "outputId": "b79bc3d7-ad64-4991-f2b9-2126ffab2555"
      },
      "source": [
        "# Plotting scatter plots to show dispersion of total goals\n",
        "\n",
        "col_list = ['home_score', 'away_score', 'rank_home', 'rank_away']\n",
        "colors = ['red', 'green', 'darkgrey', 'darkblue']\n",
        "\n",
        "fig, axes = plt.subplots(nrows = 2, ncols = 2, figsize = (15, 10))\n",
        "plt.suptitle('Scatter to show dispersion of total goals', fontsize = 15, y = 0.92)\n",
        "for ax, data, column, color in zip(axes.flatten(), complete_merged_df, col_list, colors):\n",
        "  sns.scatterplot(complete_merged_df[column], complete_merged_df.total_goals, ax = ax, color = color)"
      ],
      "execution_count": null,
      "outputs": [
        {
          "output_type": "display_data",
          "data": {
            "image/png": "[encoded data removed]",
            "text/plain": [
              "<Figure size 1080x720 with 4 Axes>"
            ]
          },
          "metadata": {
            "tags": [],
            "needs_background": "light"
          }
        }
      ]
    },
    {
      "cell_type": "markdown",
      "metadata": {
        "id": "yuLkT61IG8QD",
        "colab_type": "text"
      },
      "source": [
        "### Histograms\n"
      ]
    },
    {
      "cell_type": "code",
      "metadata": {
        "id": "PDvBimrl_QOT",
        "colab_type": "code",
        "colab": {
          "base_uri": "https://localhost:8080/",
          "height": 508
        },
        "outputId": "e9e8c5d0-d007-452a-ac86-0cb672894d70"
      },
      "source": [
        "# Using a distribution plot to plot home and away scores\n",
        "\n",
        "fig, axes = plt.subplots(nrows = 1, ncols = 2, figsize = (20, 10))\n",
        "plt.suptitle('Distribution of home and away scores')\n",
        "for ax, data, column, color in zip(axes.flatten(), complete_merged_df, ['home_score', 'away_score'], ['red', 'darkgreen']):\n",
        "  sns.distplot(complete_merged_df[column], ax = ax, hist = True, color = color)"
      ],
      "execution_count": null,
      "outputs": [
        {
          "output_type": "display_data",
          "data": {
            "image/png": "[encoded data removed]",
            "text/plain": [
              "<Figure size 1440x720 with 2 Axes>"
            ]
          },
          "metadata": {
            "tags": [],
            "needs_background": "light"
          }
        }
      ]
    },
    {
      "cell_type": "markdown",
      "metadata": {
        "id": "eITDukUDP3pI",
        "colab_type": "text"
      },
      "source": [
        "The plots are rightly skewed meaning that the mean is less than both the median and mode of goals scored"
      ]
    },
    {
      "cell_type": "markdown",
      "metadata": {
        "id": "t3BOZuhEQwwQ",
        "colab_type": "text"
      },
      "source": [
        "### Teams with most goals in all of the tournaments"
      ]
    },
    {
      "cell_type": "code",
      "metadata": {
        "id": "ybL5JElg_QIa",
        "colab_type": "code",
        "colab": {
          "base_uri": "https://localhost:8080/",
          "height": 443
        },
        "outputId": "b89d5a4d-97cc-4cd5-f74d-30e86f6fb756"
      },
      "source": [
        "# Creating a dataframe of home teams with their total goals scored\n",
        "\n",
        "total_goals_home = complete_merged_df.groupby('home_team')['home_score'].sum().reset_index()\n",
        "total_goals_home.columns = ['team', 'goals'] \n",
        "\n",
        "# Creating a dataframe of away teams with their total goals scored\n",
        "\n",
        "total_goals_away = complete_merged_df.groupby('away_team')['away_score'].sum().reset_index()\n",
        "total_goals_away.columns = ['team', 'goals'] \n",
        "\n",
        "# Concating the two dataframes together and then grouping dataframes by team to find total goals scored\n",
        "\n",
        "total_goals = pd.concat([total_goals_home, total_goals_away])\n",
        "total_golas = total_goals.sort_values(by = 'goals', ascending = False, inplace = True) \n",
        "\n",
        "# Changing the datatype of the goals column to integer\n",
        "total_goals.goals = total_goals.goals.astype(int)\n",
        "\n",
        "plt.figure(figsize=(20,10)) \n",
        "ax = sns.barplot(\"goals\",\"team\",data=total_goals[:10])\n",
        "\n",
        "plt.title(\"Teams with highest goals in all of the tournaments - Top 10\")\n",
        "plt.show()"
      ],
      "execution_count": null,
      "outputs": [
        {
          "output_type": "display_data",
          "data": {
            "image/png": "[encoded data removed]",
            "text/plain": [
              "<Figure size 1440x720 with 1 Axes>"
            ]
          },
          "metadata": {
            "tags": [],
            "needs_background": "light"
          }
        }
      ]
    },
    {
      "cell_type": "markdown",
      "metadata": {
        "id": "LmSWyGwZWc35",
        "colab_type": "text"
      },
      "source": [
        "From the above barchart it can be deduced that, Brazil scored the highest number of goals followed closely by Saudi Arabia in all tournaments that the team participated"
      ]
    },
    {
      "cell_type": "markdown",
      "metadata": {
        "id": "kvFBk6aeWZCt",
        "colab_type": "text"
      },
      "source": [
        "### Most goals scored during a match"
      ]
    },
    {
      "cell_type": "code",
      "metadata": {
        "id": "cxArhRJE_QFs",
        "colab_type": "code",
        "colab": {
          "base_uri": "https://localhost:8080/",
          "height": 621
        },
        "outputId": "1c490310-bd2f-49fd-b9cc-7afb1395d42a"
      },
      "source": [
        "# Creating a dataframe of total goals scored and then sorting the dataframe by total goals\n",
        "\n",
        "most_goals = complete_merged_df.sort_values(by = 'total_goals', ascending = False)[:10][['date_x', 'home_team', 'away_team', 'home_score', 'away_score', 'total_goals']]\n",
        "\n",
        "# Creating the y axis label\n",
        "\n",
        "most_goals['match'] = most_goals[['home_team', 'away_team']].apply(lambda x: ' .Vs. '.join(x), axis = 1)\n",
        "most_goals.index = most_goals.match\n",
        "\n",
        "most_goals = most_goals.sort_values(by = 'total_goals', ascending = False) \n",
        "\n",
        "# Plotting a barchart\n",
        "\n",
        "ax = most_goals[['home_score', 'away_score']].plot(kind=\"bar\",stacked=True, figsize=(20,10),linewidth=2)\n",
        "\n",
        "\n",
        "plt.ylabel(\"home team vs away team\",color=\"b\") \n",
        "plt.xlabel(\"goals\")\n",
        "plt.title(\"Most total goals scored during a match - Top 10 \") \n",
        "\n",
        "# Displaying the chart\n",
        "plt.show()"
      ],
      "execution_count": null,
      "outputs": [
        {
          "output_type": "display_data",
          "data": {
            "image/png": "[encoded data removed]",
            "text/plain": [
              "<Figure size 1440x720 with 1 Axes>"
            ]
          },
          "metadata": {
            "tags": [],
            "needs_background": "light"
          }
        }
      ]
    },
    {
      "cell_type": "markdown",
      "metadata": {
        "id": "j6VcfsL8hRGb",
        "colab_type": "text"
      },
      "source": [
        "The match with the highest number of goals scored from the above chart is Australia Vs American Samoa"
      ]
    },
    {
      "cell_type": "markdown",
      "metadata": {
        "id": "4zx6ewnGd8PG",
        "colab_type": "text"
      },
      "source": [
        "### Total goals scored during games by year"
      ]
    },
    {
      "cell_type": "code",
      "metadata": {
        "id": "-zzcUgSleAtz",
        "colab_type": "code",
        "colab": {
          "base_uri": "https://localhost:8080/",
          "height": 461
        },
        "outputId": "7c570a0a-a29b-44f2-eaef-964db55cca89"
      },
      "source": [
        "# Plotting boxplots of year against total goals scored\n",
        "\n",
        "plt.figure(figsize=(20,10))  \n",
        "ax = sns.boxplot(y=complete_merged_df.total_goals,x=complete_merged_df.year) \n",
        "\n",
        "plt.title(\"Total goals scored per year\")\n",
        "plt.show()"
      ],
      "execution_count": null,
      "outputs": [
        {
          "output_type": "display_data",
          "data": {
            "image/png": "[encoded data removed]",
            "text/plain": [
              "<Figure size 1440x720 with 1 Axes>"
            ]
          },
          "metadata": {
            "tags": [],
            "needs_background": "light"
          }
        }
      ]
    },
    {
      "cell_type": "markdown",
      "metadata": {
        "id": "TNMze6hPhiSD",
        "colab_type": "text"
      },
      "source": [
        "The year 2001 had the highest number of total goals scored, and the year 2018 had the least number of goals scored"
      ]
    },
    {
      "cell_type": "markdown",
      "metadata": {
        "id": "HvRBtKiFgYZV",
        "colab_type": "text"
      },
      "source": [
        "### Average goals per year"
      ]
    },
    {
      "cell_type": "code",
      "metadata": {
        "id": "4Q15zrrWeArF",
        "colab_type": "code",
        "colab": {
          "base_uri": "https://localhost:8080/",
          "height": 460
        },
        "outputId": "a852027e-594d-414f-adb4-19c48d16edeb"
      },
      "source": [
        "# Creating a dataframe of year and total goals\n",
        "#\n",
        "goals = complete_merged_df.groupby('year')['total_goals'].mean().reset_index()\n",
        "goals.year = goals.year.astype(int) # Changing the datatype of the year column to int\n",
        "\n",
        "# Plotting a pointplot to show the trend of average goals scored across the years\n",
        "\n",
        "plt.figure(figsize=(20,10))\n",
        "ax = sns.pointplot(goals.year,goals.total_goals) \n",
        "plt.title(\"Average number goals per year\") \n",
        "plt.show()"
      ],
      "execution_count": null,
      "outputs": [
        {
          "output_type": "display_data",
          "data": {
            "image/png": "[encoded data removed]",
            "text/plain": [
              "<Figure size 1440x720 with 1 Axes>"
            ]
          },
          "metadata": {
            "tags": [],
            "needs_background": "light"
          }
        }
      ]
    },
    {
      "cell_type": "markdown",
      "metadata": {
        "id": "6RTlOQKPiB_d",
        "colab_type": "text"
      },
      "source": [
        "The number of goals has been reducing from 2001 towards the later years of 2018 as seen above"
      ]
    },
    {
      "cell_type": "markdown",
      "metadata": {
        "id": "TyEaLLl4nlCe",
        "colab_type": "text"
      },
      "source": [
        "## Approach 1: Using Polynomial regression.\n",
        "Create a model that can predict how many goals the home team scores"
      ]
    },
    {
      "cell_type": "markdown",
      "metadata": {
        "id": "A0_SSOPDpMT9",
        "colab_type": "text"
      },
      "source": [
        "### *Predicting home score*"
      ]
    },
    {
      "cell_type": "code",
      "metadata": {
        "id": "VAQxaGqPiBkj",
        "colab_type": "code",
        "colab": {
          "base_uri": "https://localhost:8080/",
          "height": 204
        },
        "outputId": "53b392ff-62ae-41ee-b6f1-6341ad84f243"
      },
      "source": [
        "# Creating the pred_home_df dataset\n",
        "#\n",
        "pred_home_df = complete_merged_df[['home_team',\t'away_team',\t'home_score',\t'away_score',\t'tournament', 'rank_home', 'rank_away']]\n",
        "\n",
        "# Previewing the pred_home_df\n",
        "#\n",
        "pred_home_df.head()"
      ],
      "execution_count": null,
      "outputs": [
        {
          "output_type": "execute_result",
          "data": {
            "text/html": [
              "<div>\n",
              "<style scoped>\n",
              "    .dataframe tbody tr th:only-of-type {\n",
              "        vertical-align: middle;\n",
              "    }\n",
              "\n",
              "    .dataframe tbody tr th {\n",
              "        vertical-align: top;\n",
              "    }\n",
              "\n",
              "    .dataframe thead th {\n",
              "        text-align: right;\n",
              "    }\n",
              "</style>\n",
              "<table border=\"1\" class=\"dataframe\">\n",
              "  <thead>\n",
              "    <tr style=\"text-align: right;\">\n",
              "      <th></th>\n",
              "      <th>home_team</th>\n",
              "      <th>away_team</th>\n",
              "      <th>home_score</th>\n",
              "      <th>away_score</th>\n",
              "      <th>tournament</th>\n",
              "      <th>rank_home</th>\n",
              "      <th>rank_away</th>\n",
              "    </tr>\n",
              "  </thead>\n",
              "  <tbody>\n",
              "    <tr>\n",
              "      <th>0</th>\n",
              "      <td>Barbados</td>\n",
              "      <td>Grenada</td>\n",
              "      <td>0</td>\n",
              "      <td>0</td>\n",
              "      <td>Friendly</td>\n",
              "      <td>99.0</td>\n",
              "      <td>131.0</td>\n",
              "    </tr>\n",
              "    <tr>\n",
              "      <th>1</th>\n",
              "      <td>Barbados</td>\n",
              "      <td>Grenada</td>\n",
              "      <td>0</td>\n",
              "      <td>0</td>\n",
              "      <td>Friendly</td>\n",
              "      <td>99.0</td>\n",
              "      <td>131.0</td>\n",
              "    </tr>\n",
              "    <tr>\n",
              "      <th>2</th>\n",
              "      <td>Ghana</td>\n",
              "      <td>Egypt</td>\n",
              "      <td>2</td>\n",
              "      <td>1</td>\n",
              "      <td>Friendly</td>\n",
              "      <td>29.0</td>\n",
              "      <td>24.0</td>\n",
              "    </tr>\n",
              "    <tr>\n",
              "      <th>3</th>\n",
              "      <td>Mali</td>\n",
              "      <td>Burkina Faso</td>\n",
              "      <td>1</td>\n",
              "      <td>1</td>\n",
              "      <td>Friendly</td>\n",
              "      <td>48.0</td>\n",
              "      <td>101.0</td>\n",
              "    </tr>\n",
              "    <tr>\n",
              "      <th>4</th>\n",
              "      <td>Mauritania</td>\n",
              "      <td>Mali</td>\n",
              "      <td>1</td>\n",
              "      <td>3</td>\n",
              "      <td>Friendly</td>\n",
              "      <td>147.0</td>\n",
              "      <td>48.0</td>\n",
              "    </tr>\n",
              "  </tbody>\n",
              "</table>\n",
              "</div>"
            ],
            "text/plain": [
              "    home_team     away_team  home_score  ...  tournament rank_home  rank_away\n",
              "0    Barbados       Grenada           0  ...    Friendly      99.0      131.0\n",
              "1    Barbados       Grenada           0  ...    Friendly      99.0      131.0\n",
              "2       Ghana         Egypt           2  ...    Friendly      29.0       24.0\n",
              "3        Mali  Burkina Faso           1  ...    Friendly      48.0      101.0\n",
              "4  Mauritania          Mali           1  ...    Friendly     147.0       48.0\n",
              "\n",
              "[5 rows x 7 columns]"
            ]
          },
          "metadata": {
            "tags": []
          },
          "execution_count": 263
        }
      ]
    },
    {
      "cell_type": "markdown",
      "metadata": {
        "id": "YqFuPfTJst4j",
        "colab_type": "text"
      },
      "source": [
        "#### Checking for multicollinearity\n"
      ]
    },
    {
      "cell_type": "code",
      "metadata": {
        "id": "7Hmbn74os1t0",
        "colab_type": "code",
        "colab": {
          "base_uri": "https://localhost:8080/",
          "height": 142
        },
        "outputId": "d74acfe2-6e75-492b-c49f-c9b1536a900a"
      },
      "source": [
        "# Displaying the correlations between the variables\n",
        "#\n",
        "corrs = pred_home_df.drop('home_score', axis = 1).corr()\n",
        "corrs"
      ],
      "execution_count": null,
      "outputs": [
        {
          "output_type": "execute_result",
          "data": {
            "text/html": [
              "<div>\n",
              "<style scoped>\n",
              "    .dataframe tbody tr th:only-of-type {\n",
              "        vertical-align: middle;\n",
              "    }\n",
              "\n",
              "    .dataframe tbody tr th {\n",
              "        vertical-align: top;\n",
              "    }\n",
              "\n",
              "    .dataframe thead th {\n",
              "        text-align: right;\n",
              "    }\n",
              "</style>\n",
              "<table border=\"1\" class=\"dataframe\">\n",
              "  <thead>\n",
              "    <tr style=\"text-align: right;\">\n",
              "      <th></th>\n",
              "      <th>away_score</th>\n",
              "      <th>rank_home</th>\n",
              "      <th>rank_away</th>\n",
              "    </tr>\n",
              "  </thead>\n",
              "  <tbody>\n",
              "    <tr>\n",
              "      <th>away_score</th>\n",
              "      <td>1.000000</td>\n",
              "      <td>0.213023</td>\n",
              "      <td>-0.184574</td>\n",
              "    </tr>\n",
              "    <tr>\n",
              "      <th>rank_home</th>\n",
              "      <td>0.213023</td>\n",
              "      <td>1.000000</td>\n",
              "      <td>0.481889</td>\n",
              "    </tr>\n",
              "    <tr>\n",
              "      <th>rank_away</th>\n",
              "      <td>-0.184574</td>\n",
              "      <td>0.481889</td>\n",
              "      <td>1.000000</td>\n",
              "    </tr>\n",
              "  </tbody>\n",
              "</table>\n",
              "</div>"
            ],
            "text/plain": [
              "            away_score  rank_home  rank_away\n",
              "away_score    1.000000   0.213023  -0.184574\n",
              "rank_home     0.213023   1.000000   0.481889\n",
              "rank_away    -0.184574   0.481889   1.000000"
            ]
          },
          "metadata": {
            "tags": []
          },
          "execution_count": 264
        }
      ]
    },
    {
      "cell_type": "code",
      "metadata": {
        "id": "07vQ2FUus1qX",
        "colab_type": "code",
        "colab": {
          "base_uri": "https://localhost:8080/",
          "height": 142
        },
        "outputId": "75e9dea2-2157-471a-d766-db6ac13f691e"
      },
      "source": [
        "# Creating a dataframe of the VIF\n",
        "#\n",
        "vif_df = pd.DataFrame(np.linalg.inv(corrs.values), index = corrs.index, columns = corrs.columns)\n",
        "vif_df"
      ],
      "execution_count": null,
      "outputs": [
        {
          "output_type": "execute_result",
          "data": {
            "text/html": [
              "<div>\n",
              "<style scoped>\n",
              "    .dataframe tbody tr th:only-of-type {\n",
              "        vertical-align: middle;\n",
              "    }\n",
              "\n",
              "    .dataframe tbody tr th {\n",
              "        vertical-align: top;\n",
              "    }\n",
              "\n",
              "    .dataframe thead th {\n",
              "        text-align: right;\n",
              "    }\n",
              "</style>\n",
              "<table border=\"1\" class=\"dataframe\">\n",
              "  <thead>\n",
              "    <tr style=\"text-align: right;\">\n",
              "      <th></th>\n",
              "      <th>away_score</th>\n",
              "      <th>rank_home</th>\n",
              "      <th>rank_away</th>\n",
              "    </tr>\n",
              "  </thead>\n",
              "  <tbody>\n",
              "    <tr>\n",
              "      <th>away_score</th>\n",
              "      <td>1.180402</td>\n",
              "      <td>-0.464249</td>\n",
              "      <td>0.441589</td>\n",
              "    </tr>\n",
              "    <tr>\n",
              "      <th>rank_home</th>\n",
              "      <td>-0.464249</td>\n",
              "      <td>1.485040</td>\n",
              "      <td>-0.801313</td>\n",
              "    </tr>\n",
              "    <tr>\n",
              "      <th>rank_away</th>\n",
              "      <td>0.441589</td>\n",
              "      <td>-0.801313</td>\n",
              "      <td>1.467650</td>\n",
              "    </tr>\n",
              "  </tbody>\n",
              "</table>\n",
              "</div>"
            ],
            "text/plain": [
              "            away_score  rank_home  rank_away\n",
              "away_score    1.180402  -0.464249   0.441589\n",
              "rank_home    -0.464249   1.485040  -0.801313\n",
              "rank_away     0.441589  -0.801313   1.467650"
            ]
          },
          "metadata": {
            "tags": []
          },
          "execution_count": 265
        }
      ]
    },
    {
      "cell_type": "code",
      "metadata": {
        "id": "Xs17mJ9cs1iL",
        "colab_type": "code",
        "colab": {
          "base_uri": "https://localhost:8080/",
          "height": 375
        },
        "outputId": "3a553bd7-323f-42a0-ebb5-3c07865f638e"
      },
      "source": [
        "# Creating a heatmap of the vif_df\n",
        "#\n",
        "plt.figure(figsize = (10, 6))\n",
        "sns.heatmap(vif_df, annot = True)\n",
        "plt.show()"
      ],
      "execution_count": null,
      "outputs": [
        {
          "output_type": "display_data",
          "data": {
            "image/png": "[encoded data removed]",
            "text/plain": [
              "<Figure size 720x432 with 2 Axes>"
            ]
          },
          "metadata": {
            "tags": [],
            "needs_background": "light"
          }
        }
      ]
    },
    {
      "cell_type": "markdown",
      "metadata": {
        "id": "d3sMGc0vvWg2",
        "colab_type": "text"
      },
      "source": [
        "All of the scores are under 5, therefore there is no multicollinearity"
      ]
    },
    {
      "cell_type": "markdown",
      "metadata": {
        "id": "dtYuI0pTwbFs",
        "colab_type": "text"
      },
      "source": [
        "#### Creating the polynomial model"
      ]
    },
    {
      "cell_type": "code",
      "metadata": {
        "id": "3Z4eq_CueAlL",
        "colab_type": "code",
        "colab": {
          "base_uri": "https://localhost:8080/",
          "height": 34
        },
        "outputId": "f80e1f54-276f-4929-dd4b-aaacf03f8637"
      },
      "source": [
        "# Creating X and y variables\n",
        "\n",
        "X = pred_home_df.iloc[:, [0, 1, 3, 4, 5, 6]]\n",
        "y = pred_home_df.home_score\n",
        "\n",
        "# Encoding categorical variables\n",
        "\n",
        "X = pd.get_dummies(X, drop_first=True)\n",
        "\n",
        "# Splitting the dataset into training and testing sets\n",
        "\n",
        "X_train, X_test, y_train, y_test = train_test_split(X, y, test_size = 0.25, random_state = 101)\n",
        "\n",
        "# Standardising the X_train and the X_test to the same scale\n",
        "\n",
        "sc = StandardScaler()\n",
        "X_train = sc.fit_transform(X_train)\n",
        "X_test = sc.transform(X_test)\n",
        "\n",
        "# Fitting the polynomial features to the X_train and X_test\n",
        "\n",
        "poly_features = PolynomialFeatures(degree = 1)\n",
        "X_train = poly_features.fit_transform(X_train)\n",
        "X_test = poly_features.fit_transform(X_test)\n",
        "\n",
        "# Training the model\n",
        "\n",
        "regressor = LinearRegression()\n",
        "regressor.fit(X_train, y_train)\n",
        "\n",
        "# Making predictions\n",
        "\n",
        "y_pred = regressor.predict(X_test)\n",
        "\n",
        "# Measuring the accuracy of the model\n",
        "\n",
        "print(np.sqrt(mean_squared_error(y_test, y_pred)))"
      ],
      "execution_count": null,
      "outputs": [
        {
          "output_type": "stream",
          "text": [
            "1.3278064476746914\n"
          ],
          "name": "stdout"
        }
      ]
    },
    {
      "cell_type": "markdown",
      "metadata": {
        "id": "Bs7tZDIE-uty",
        "colab_type": "text"
      },
      "source": [
        "This model is fairly good in making predictions beacasue of its low RMSE"
      ]
    },
    {
      "cell_type": "markdown",
      "metadata": {
        "id": "Ee4HcyU33cnu",
        "colab_type": "text"
      },
      "source": [
        "#### Hyperparameter tuning to find the optimal parameters for the model"
      ]
    },
    {
      "cell_type": "code",
      "metadata": {
        "id": "LtBC7ZH54VNH",
        "colab_type": "code",
        "colab": {
          "base_uri": "https://localhost:8080/",
          "height": 34
        },
        "outputId": "8ff4a976-8014-4797-de4e-ab4921724ff1"
      },
      "source": [
        "# Tuning the parameters of the linear regression model to find the optimal \n",
        "\n",
        "from sklearn.linear_model import LinearRegression\n",
        "LinearRegression()"
      ],
      "execution_count": null,
      "outputs": [
        {
          "output_type": "execute_result",
          "data": {
            "text/plain": [
              "LinearRegression(copy_X=True, fit_intercept=True, n_jobs=None, normalize=False)"
            ]
          },
          "metadata": {
            "tags": []
          },
          "execution_count": 268
        }
      ]
    },
    {
      "cell_type": "code",
      "metadata": {
        "id": "pUxff-iE5hOa",
        "colab_type": "code",
        "colab": {
          "base_uri": "https://localhost:8080/",
          "height": 51
        },
        "outputId": "687a698a-2bc2-42ac-e40c-081e477491fe"
      },
      "source": [
        "# Creating a parameters dictionary\n",
        "\n",
        "params = {'normalize': [True, False],\n",
        "         'fit_intercept': [True, False]}\n",
        "\n",
        "# Creating a cross validation of 10 folds\n",
        "\n",
        "kfold = KFold(n_splits = 10)\n",
        "\n",
        "# Using grid search to find the optimal parameters\n",
        "\n",
        "grid_search = GridSearchCV(estimator=regressor, param_grid = params, cv = kfold, scoring = 'neg_mean_squared_error')\n",
        "\n",
        "# Fitting the grid search \n",
        "\n",
        "grid_search_results = grid_search.fit(X, y)\n",
        "\n",
        "# Displaying the best parameters and the the best score\n",
        "\n",
        "print('Best score is',{grid_search.best_score_})\n",
        "\n",
        "print('Best parameters are',grid_search.best_params_)"
      ],
      "execution_count": null,
      "outputs": [
        {
          "output_type": "stream",
          "text": [
            "Best score is {-1.8751779365911763}\n",
            "Best parameters are {'fit_intercept': True, 'normalize': False}\n"
          ],
          "name": "stdout"
        }
      ]
    },
    {
      "cell_type": "markdown",
      "metadata": {
        "id": "MwkizEgs7_Gy",
        "colab_type": "text"
      },
      "source": [
        "The optimal parameters for this model are 'fit_intercept': True, 'normalize': False"
      ]
    },
    {
      "cell_type": "markdown",
      "metadata": {
        "id": "JmKKj4ec3PYK",
        "colab_type": "text"
      },
      "source": [
        "#### Performing cross validation to check for overfitting or underfitting"
      ]
    },
    {
      "cell_type": "code",
      "metadata": {
        "id": "oXHgYK5F3Z4_",
        "colab_type": "code",
        "colab": {
          "base_uri": "https://localhost:8080/",
          "height": 51
        },
        "outputId": "a820846e-1de0-473c-a6cc-e7c51ff306b1"
      },
      "source": [
        "# Performing cross validation of ten folds\n",
        "\n",
        "scores = cross_val_score(regressor, X, y, scoring = 'neg_mean_squared_error', cv = 10)\n",
        "\n",
        "# Calculating the mean of the cross validation scores\n",
        "\n",
        "print('Mean of cross validation scores is',{np.round(scores.mean()*-1, 3)})\n",
        "\n",
        "# Calculating the variance of the cross validation scores from the mean\n",
        "\n",
        "print('Standard deviation of the cross validation scores is',{np.round(scores.std(), 3)})"
      ],
      "execution_count": null,
      "outputs": [
        {
          "output_type": "stream",
          "text": [
            "Mean of cross validation scores is {1.875}\n",
            "Standard deviation of the cross validation scores is {0.241}\n"
          ],
          "name": "stdout"
        }
      ]
    },
    {
      "cell_type": "markdown",
      "metadata": {
        "id": "Zma_yxKY-e_7",
        "colab_type": "text"
      },
      "source": [
        "The model is stable, it differs by 0.24, from the mean"
      ]
    },
    {
      "cell_type": "markdown",
      "metadata": {
        "id": "nurKkhvYxJQ6",
        "colab_type": "text"
      },
      "source": [
        "#### Checking the model's appropriateness using a residual plot\n"
      ]
    },
    {
      "cell_type": "code",
      "metadata": {
        "id": "naCAt0IheARD",
        "colab_type": "code",
        "colab": {
          "base_uri": "https://localhost:8080/",
          "height": 295
        },
        "outputId": "4e846db7-32a2-4a74-906c-96a986a76c57"
      },
      "source": [
        "# Plotting the residual plot\n",
        "\n",
        "residual_values = np.subtract(y_pred, y_test)\n",
        "\n",
        "# Plotting the residual scatterplot\n",
        "\n",
        "plt.scatter(y_pred, residual_values)\n",
        "plt.title('Residual Plot')\n",
        "plt.ylabel('Residual')\n",
        "plt.xlabel('Fitted values')\n",
        "plt.axhline(y= residual_values.mean(), color='red', linewidth=1)\n",
        "plt.show()"
      ],
      "execution_count": null,
      "outputs": [
        {
          "output_type": "display_data",
          "data": {
            "image/png": "[encoded data removed]",
            "text/plain": [
              "<Figure size 432x288 with 1 Axes>"
            ]
          },
          "metadata": {
            "tags": [],
            "needs_background": "light"
          }
        }
      ]
    },
    {
      "cell_type": "markdown",
      "metadata": {
        "id": "5On7GSjayfpv",
        "colab_type": "text"
      },
      "source": [
        "The model is fairly okay as the residuals are centered around the mean which is very close to 0"
      ]
    },
    {
      "cell_type": "markdown",
      "metadata": {
        "id": "8utIa6uayzCG",
        "colab_type": "text"
      },
      "source": [
        "#### Heteroskedasticity test using the barlett's test"
      ]
    },
    {
      "cell_type": "code",
      "metadata": {
        "id": "HuQgTZmLeANl",
        "colab_type": "code",
        "colab": {
          "base_uri": "https://localhost:8080/",
          "height": 68
        },
        "outputId": "35eb1745-baa0-44c6-dc4a-8191f0ccff24"
      },
      "source": [
        "# Performing the barlett's test\n",
        "\n",
        "test_result, p_value = sp.stats.bartlett(y_pred, residual_values)\n",
        "\n",
        "# Calculating the critical value of the chi squared distribution, to compare it with the test_result\n",
        "\n",
        "degrees_of_freedom = len(y_pred) - 1\n",
        "probability =  1 - p_value\n",
        "critical_value = sp.stats.chi2.ppf(probability, degrees_of_freedom)\n",
        "\n",
        "# If the test_result is greater than the critical value, then the null hypothesis is rejected. \n",
        "# This means that there are patterns to the variance of the data which is heterogenous.\n",
        "\n",
        "# If there no patterns identified, the null hypothesis is accepted. \n",
        "# This means that the variance is homogeneous \n",
        "\n",
        "if (test_result > critical_value):\n",
        "  print('The test result of',{np.round(test_result,2)}, 'is greater than the critical value')\n",
        "  print('Thefore the variances are unequal, which means that the model should be reassessed')\n",
        "  print('The variances are heterogenous')\n",
        "else:\n",
        "  print('The test result of',{np.round(test_result,2)},'is less than the critical value')\n",
        "  print('Thefore the variances are equal, which means that the model is good and does not require reassesment.')\n",
        "  print('The variances are homogeneous')"
      ],
      "execution_count": null,
      "outputs": [
        {
          "output_type": "stream",
          "text": [
            "The test result of {521.82} is less than the critical value\n",
            "Thefore the variances are equal, which means that the model is good and does not require reassesment.\n",
            "The variances are homogeneous\n"
          ],
          "name": "stdout"
        }
      ]
    },
    {
      "cell_type": "markdown",
      "metadata": {
        "id": "6Dn8mo2S_iU7",
        "colab_type": "text"
      },
      "source": [
        "## Approach 2: Using Logistic Regression.\n",
        "Create a model that can predict whether the home team will win, draw or lose"
      ]
    },
    {
      "cell_type": "code",
      "metadata": {
        "id": "7SeVhKQbeAGP",
        "colab_type": "code",
        "colab": {
          "base_uri": "https://localhost:8080/",
          "height": 204
        },
        "outputId": "ab22844d-b72a-4178-bb70-dc205562c721"
      },
      "source": [
        "# Selecting the relevant features for the logistic regression model\n",
        "\n",
        "log_reg_df = complete_merged_df[['home_team', 'away_team', 'home_score', 'away_score', 'tournament', 'year', 'rank_home', 'rank_away', 'result']]\n",
        "\n",
        "# Previewing the first five rows of the data\n",
        "\n",
        "log_reg_df.head()"
      ],
      "execution_count": null,
      "outputs": [
        {
          "output_type": "execute_result",
          "data": {
            "text/html": [
              "<div>\n",
              "<style scoped>\n",
              "    .dataframe tbody tr th:only-of-type {\n",
              "        vertical-align: middle;\n",
              "    }\n",
              "\n",
              "    .dataframe tbody tr th {\n",
              "        vertical-align: top;\n",
              "    }\n",
              "\n",
              "    .dataframe thead th {\n",
              "        text-align: right;\n",
              "    }\n",
              "</style>\n",
              "<table border=\"1\" class=\"dataframe\">\n",
              "  <thead>\n",
              "    <tr style=\"text-align: right;\">\n",
              "      <th></th>\n",
              "      <th>home_team</th>\n",
              "      <th>away_team</th>\n",
              "      <th>home_score</th>\n",
              "      <th>away_score</th>\n",
              "      <th>tournament</th>\n",
              "      <th>year</th>\n",
              "      <th>rank_home</th>\n",
              "      <th>rank_away</th>\n",
              "      <th>result</th>\n",
              "    </tr>\n",
              "  </thead>\n",
              "  <tbody>\n",
              "    <tr>\n",
              "      <th>0</th>\n",
              "      <td>Barbados</td>\n",
              "      <td>Grenada</td>\n",
              "      <td>0</td>\n",
              "      <td>0</td>\n",
              "      <td>Friendly</td>\n",
              "      <td>1994</td>\n",
              "      <td>99.0</td>\n",
              "      <td>131.0</td>\n",
              "      <td>Draw</td>\n",
              "    </tr>\n",
              "    <tr>\n",
              "      <th>1</th>\n",
              "      <td>Barbados</td>\n",
              "      <td>Grenada</td>\n",
              "      <td>0</td>\n",
              "      <td>0</td>\n",
              "      <td>Friendly</td>\n",
              "      <td>1994</td>\n",
              "      <td>99.0</td>\n",
              "      <td>131.0</td>\n",
              "      <td>Draw</td>\n",
              "    </tr>\n",
              "    <tr>\n",
              "      <th>2</th>\n",
              "      <td>Ghana</td>\n",
              "      <td>Egypt</td>\n",
              "      <td>2</td>\n",
              "      <td>1</td>\n",
              "      <td>Friendly</td>\n",
              "      <td>1994</td>\n",
              "      <td>29.0</td>\n",
              "      <td>24.0</td>\n",
              "      <td>Win</td>\n",
              "    </tr>\n",
              "    <tr>\n",
              "      <th>3</th>\n",
              "      <td>Mali</td>\n",
              "      <td>Burkina Faso</td>\n",
              "      <td>1</td>\n",
              "      <td>1</td>\n",
              "      <td>Friendly</td>\n",
              "      <td>1994</td>\n",
              "      <td>48.0</td>\n",
              "      <td>101.0</td>\n",
              "      <td>Draw</td>\n",
              "    </tr>\n",
              "    <tr>\n",
              "      <th>4</th>\n",
              "      <td>Mauritania</td>\n",
              "      <td>Mali</td>\n",
              "      <td>1</td>\n",
              "      <td>3</td>\n",
              "      <td>Friendly</td>\n",
              "      <td>1994</td>\n",
              "      <td>147.0</td>\n",
              "      <td>48.0</td>\n",
              "      <td>Lose</td>\n",
              "    </tr>\n",
              "  </tbody>\n",
              "</table>\n",
              "</div>"
            ],
            "text/plain": [
              "    home_team     away_team  home_score  ...  rank_home rank_away result\n",
              "0    Barbados       Grenada           0  ...       99.0     131.0   Draw\n",
              "1    Barbados       Grenada           0  ...       99.0     131.0   Draw\n",
              "2       Ghana         Egypt           2  ...       29.0      24.0    Win\n",
              "3        Mali  Burkina Faso           1  ...       48.0     101.0   Draw\n",
              "4  Mauritania          Mali           1  ...      147.0      48.0   Lose\n",
              "\n",
              "[5 rows x 9 columns]"
            ]
          },
          "metadata": {
            "tags": []
          },
          "execution_count": 207
        }
      ]
    },
    {
      "cell_type": "markdown",
      "metadata": {
        "id": "hDqY9fQ6FNMZ",
        "colab_type": "text"
      },
      "source": [
        "The results are fairly balanced as observed above"
      ]
    },
    {
      "cell_type": "code",
      "metadata": {
        "id": "suTBtlDrIvSS",
        "colab_type": "code",
        "colab": {
          "base_uri": "https://localhost:8080/",
          "height": 391
        },
        "outputId": "910768d0-c7c3-4970-8662-5fdb0aafa30e"
      },
      "source": [
        "# Checking for correlations between features\n",
        "\n",
        "plt.figure(figsize = (10, 6))\n",
        "sns.heatmap(log_reg_df.corr(), annot = True) \n",
        "plt.title('Heatmap showing correlation between variables')\n",
        "plt.show()"
      ],
      "execution_count": null,
      "outputs": [
        {
          "output_type": "display_data",
          "data": {
            "image/png": "[encoded data removed]",
            "text/plain": [
              "<Figure size 720x432 with 2 Axes>"
            ]
          },
          "metadata": {
            "tags": [],
            "needs_background": "light"
          }
        }
      ]
    },
    {
      "cell_type": "markdown",
      "metadata": {
        "id": "KOa_P3laCYW1",
        "colab_type": "text"
      },
      "source": [
        "#### Creating a LogisticRegression model"
      ]
    },
    {
      "cell_type": "code",
      "metadata": {
        "id": "TAJWt3Yd3CdV",
        "colab_type": "code",
        "colab": {
          "base_uri": "https://localhost:8080/",
          "height": 102
        },
        "outputId": "a34d162a-c95e-4290-e8a4-03c0f51f09b5"
      },
      "source": [
        "# Spliting the data into features and the target variable\n",
        "\n",
        "X = log_reg_df.drop('result', axis = 1)\n",
        "y = log_reg_df.result\n",
        "\n",
        "# Encoding the categorical features\n",
        "\n",
        "X = pd.get_dummies(X, drop_first=True)\n",
        "\n",
        "# Spliting the data into training and testing sets\n",
        "\n",
        "X_train, X_test, y_train, y_test = train_test_split(X, y, test_size = 0.25, random_state = 101)\n",
        "\n",
        "# Instantiating the model and training the model\n",
        "\n",
        "logistic = LogisticRegression()\n",
        "logistic.fit(X_train, y_train)\n",
        "\n",
        "# Making predictions\n",
        "\n",
        "y_pred = logistic.predict(X_test)\n",
        "\n",
        "# Measuring the accuracy of the model\n",
        "\n",
        "print('The accuracy of the model is',{accuracy_score(y_test, y_pred)})\n",
        "print('The f1 score of the model is',{f1_score(y_test, y_pred, average = \"macro\")})\n",
        "confusion_matrix(y_test, y_pred)"
      ],
      "execution_count": null,
      "outputs": [
        {
          "output_type": "stream",
          "text": [
            "The accuracy of the model is {1.0}\n",
            "The f1 score of the model is {1.0}\n"
          ],
          "name": "stdout"
        },
        {
          "output_type": "execute_result",
          "data": {
            "text/plain": [
              "array([[1123,    0,    0],\n",
              "       [   0, 1310,    0],\n",
              "       [   0,    0, 2250]])"
            ]
          },
          "metadata": {
            "tags": []
          },
          "execution_count": 273
        }
      ]
    },
    {
      "cell_type": "markdown",
      "metadata": {
        "id": "_qoB-Q6bJgK6",
        "colab_type": "text"
      },
      "source": [
        "The model above is approximately 100% accurate and an f1_score of approximately 1.\n",
        "The model is overfitting the training data thus more assessment is needed"
      ]
    },
    {
      "cell_type": "markdown",
      "metadata": {
        "id": "vNrNzVhVKO36",
        "colab_type": "text"
      },
      "source": [
        "#### Hyperparameter tuning"
      ]
    },
    {
      "cell_type": "code",
      "metadata": {
        "id": "pjCNO5X03CY9",
        "colab_type": "code",
        "colab": {
          "base_uri": "https://localhost:8080/",
          "height": 102
        },
        "outputId": "00ed4254-6efb-4256-dcd8-9b8f3be3fe05"
      },
      "source": [
        "# Displaying parameters of the logistic regression model that can be tuned\n",
        "\n",
        "LogisticRegression()"
      ],
      "execution_count": null,
      "outputs": [
        {
          "output_type": "execute_result",
          "data": {
            "text/plain": [
              "LogisticRegression(C=1.0, class_weight=None, dual=False, fit_intercept=True,\n",
              "                   intercept_scaling=1, l1_ratio=None, max_iter=100,\n",
              "                   multi_class='auto', n_jobs=None, penalty='l2',\n",
              "                   random_state=None, solver='lbfgs', tol=0.0001, verbose=0,\n",
              "                   warm_start=False)"
            ]
          },
          "metadata": {
            "tags": []
          },
          "execution_count": 274
        }
      ]
    },
    {
      "cell_type": "code",
      "metadata": {
        "id": "EAIdDIpb3CVc",
        "colab_type": "code",
        "colab": {}
      },
      "source": [
        "params = {'C': [1.0, 5.0],\n",
        "         'penalty': ['l1', 'l2']}\n",
        "\n",
        "logistic = LogisticRegression()"
      ],
      "execution_count": null,
      "outputs": []
    },
    {
      "cell_type": "code",
      "metadata": {
        "id": "fL0HaOpj0wu9",
        "colab_type": "code",
        "colab": {}
      },
      "source": [
        "# Creating a cross validation of 10 folds\n",
        "\n",
        "kfold = KFold(n_splits = 10)\n",
        "\n",
        "# Using grid search to find the optimal parameters\n",
        "grid_search = GridSearchCV(estimator=logistic, param_grid = params, cv = kfold, scoring = 'accuracy')"
      ],
      "execution_count": null,
      "outputs": []
    },
    {
      "cell_type": "code",
      "metadata": {
        "id": "z37emJ9e09d4",
        "colab_type": "code",
        "colab": {
          "base_uri": "https://localhost:8080/",
          "height": 51
        },
        "outputId": "3fb9d35f-3477-4a6a-ef20-1ec55c76f3e9"
      },
      "source": [
        "# Fitting the grid search \n",
        "grid_search_results = grid_search.fit(X, y)\n",
        "\n",
        "# Displaying the best parameters and the the best score\n",
        "print('Best score is',{grid_search.best_score_})\n",
        "print('The best parameters are',grid_search.best_params_)"
      ],
      "execution_count": null,
      "outputs": [
        {
          "output_type": "stream",
          "text": [
            "Best score is {1.0}\n",
            "The best parameters are {'C': 1.0, 'penalty': 'l2'}\n"
          ],
          "name": "stdout"
        }
      ]
    },
    {
      "cell_type": "markdown",
      "metadata": {
        "id": "KYULKol_W8J1",
        "colab_type": "text"
      },
      "source": [
        "The best parameters are {'C': 1.0, 'penalty': '12'} which give a score of 1"
      ]
    },
    {
      "cell_type": "markdown",
      "metadata": {
        "id": "RuThV2YOPMhX",
        "colab_type": "text"
      },
      "source": [
        "## Challenging the solution"
      ]
    },
    {
      "cell_type": "markdown",
      "metadata": {
        "id": "jPGPsnrpK2yc",
        "colab_type": "text"
      },
      "source": [
        "## Conclusion"
      ]
    }
  ]
}